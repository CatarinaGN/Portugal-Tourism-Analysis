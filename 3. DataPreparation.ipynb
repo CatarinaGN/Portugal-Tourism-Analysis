{
 "cells": [
  {
   "cell_type": "markdown",
   "id": "61fb70b6-e832-4d4e-bd6e-1d7a2fe2237c",
   "metadata": {},
   "source": [
    "# National tourism promotion:\n",
    "\n",
    "# Data Preparation\n",
    "\n",
    "- In this next part, we are going to proceed to resolve the issues detected in the Data Understanding phase.\n",
    "- Important note: Please check the UserLocCleaning Notebook, as it provides the code used to normalize the User Location Column. Since this was a time-consuming procedure, we decided to do it in a separate notebook to avoid having to run the code multiple times."
   ]
  },
  {
   "cell_type": "markdown",
   "id": "a292d87a-c354-41a9-a31e-86f22146ffec",
   "metadata": {
    "tags": []
   },
   "source": [
    "### 1. Initial Setup: packages loading"
   ]
  },
  {
   "cell_type": "code",
   "execution_count": null,
   "id": "2944e75b-5008-4065-a5e7-c6fcd597a3a8",
   "metadata": {},
   "outputs": [],
   "source": [
    "#pip install googletrans==4.0.0-rc1\n",
    "#pip install pycountry\n",
    "#pip install langid\n",
    "#pip install langdetect\n",
    "#pip install --upgrade httpcore\n",
    "#pip install --upgrade googletrans==4.0.0-rc1\n",
    "#pip install --upgrade googletrans\n",
    "#pip install mtranslate\n",
    "#pip install --upgrade httpcore"
   ]
  },
  {
   "cell_type": "code",
   "execution_count": 1,
   "id": "9b591701-2408-403f-bb50-6e33cf6f6d48",
   "metadata": {
    "tags": []
   },
   "outputs": [
    {
     "name": "stderr",
     "output_type": "stream",
     "text": [
      "C:\\Users\\catar\\anaconda3\\Lib\\site-packages\\httpx\\_models.py:1: DeprecationWarning: 'cgi' is deprecated and slated for removal in Python 3.13\n",
      "  import cgi\n"
     ]
    }
   ],
   "source": [
    "# Packages\n",
    "import os\n",
    "import csv\n",
    "import numpy as np\n",
    "import pandas as pd\n",
    "import matplotlib.pyplot as plt\n",
    "from matplotlib import ticker\n",
    "import seaborn as sns\n",
    "import joypy\n",
    "from mpl_toolkits.mplot3d import Axes3D\n",
    "from matplotlib import cm\n",
    "import re\n",
    "from mlxtend.frequent_patterns import apriori\n",
    "from mlxtend.frequent_patterns import association_rules\n",
    "import networkx as nx\n",
    "from math import ceil\n",
    "from datetime import datetime\n",
    "import pycountry\n",
    "import time\n",
    "from translate import Translator\n",
    "from langdetect import detect\n",
    "import langid\n",
    "from googletrans import Translator\n",
    "from mtranslate import translate\n",
    "import re\n",
    "import html"
   ]
  },
  {
   "cell_type": "markdown",
   "id": "35b0412c-07ca-4ed6-a18d-09bd6a2f145e",
   "metadata": {},
   "source": [
    "### 2. Functions"
   ]
  },
  {
   "cell_type": "code",
   "execution_count": 2,
   "id": "75bde5c6-55da-4d77-9960-8d38e689af3a",
   "metadata": {
    "tags": []
   },
   "outputs": [],
   "source": [
    "def translate_to_english(holiday_name):\n",
    "    try:\n",
    "        translator= Translator(to_lang=\"en\")\n",
    "        translation = translator.translate(holiday_name)\n",
    "        time.sleep(1)  # Adding a delay to avoid potential blocking\n",
    "        return translation\n",
    "    except Exception as e:\n",
    "        print(f\"Translation error: {e}\")\n",
    "        print(f\"Holiday name: {holiday_name}\")\n",
    "        return holiday_name  # Return the original text on error"
   ]
  },
  {
   "cell_type": "code",
   "execution_count": 3,
   "id": "75606291-a8f6-448c-87ba-93dbb0486086",
   "metadata": {
    "tags": []
   },
   "outputs": [],
   "source": [
    "def translate_to_english(text):\n",
    "    translation = translate(text, 'en')\n",
    "    return translation"
   ]
  },
  {
   "cell_type": "markdown",
   "id": "6ce5afce-9761-4a88-8ab9-9699c24803ca",
   "metadata": {},
   "source": [
    "### 3. Data importation and Exploration\n",
    "\n",
    "Dataframe with the first sheet of the EuropeTop100 excel "
   ]
  },
  {
   "cell_type": "code",
   "execution_count": 4,
   "id": "ee09f95b-1fa9-42ab-a035-dc047d0174fb",
   "metadata": {
    "tags": []
   },
   "outputs": [],
   "source": [
    "#dataframe with the first sheet of the europwTop100 excel \n",
    "df1 = pd.read_excel('EuropeTop100Attractions_ENG_20190101_20210821.xlsx')"
   ]
  },
  {
   "cell_type": "code",
   "execution_count": 5,
   "id": "6cdeb145-980f-423a-9519-502f8c4870da",
   "metadata": {
    "tags": []
   },
   "outputs": [
    {
     "data": {
      "text/plain": [
       "(92120, 15)"
      ]
     },
     "execution_count": 5,
     "metadata": {},
     "output_type": "execute_result"
    }
   ],
   "source": [
    "df1.shape"
   ]
  },
  {
   "cell_type": "markdown",
   "id": "c7d2948b-905c-4a42-bd17-8333b21eb0fe",
   "metadata": {},
   "source": [
    "dataframe with the second sheet - Attractions"
   ]
  },
  {
   "cell_type": "code",
   "execution_count": 6,
   "id": "61d45b01-3b34-47e6-a975-47114ef310ea",
   "metadata": {
    "tags": []
   },
   "outputs": [],
   "source": [
    "Attractions = pd.read_excel('EuropeTop100Attractions_ENG_20190101_20210821.xlsx', sheet_name='Attractions')"
   ]
  },
  {
   "cell_type": "code",
   "execution_count": 7,
   "id": "841e770d-2113-4f5e-8e7b-11a0f347d1c1",
   "metadata": {
    "tags": []
   },
   "outputs": [
    {
     "data": {
      "text/plain": [
       "(100, 4)"
      ]
     },
     "execution_count": 7,
     "metadata": {},
     "output_type": "execute_result"
    }
   ],
   "source": [
    "Attractions.shape"
   ]
  },
  {
   "cell_type": "markdown",
   "id": "30647c84-9c7b-4b99-b35e-8387111d7e6e",
   "metadata": {
    "tags": []
   },
   "source": [
    "We noticed that merging these two data frames was causing us to lose lines because we used \"localId\" to perform the merge. As we observed in the Data Understanding phase, two IDs (u and genis) are not in the correct format, and as a result, they are not recognized during the merge. - we need to correct this before the merge"
   ]
  },
  {
   "cell_type": "markdown",
   "id": "cccd3724-7300-499e-b257-cbc762e2b015",
   "metadata": {},
   "source": [
    "Importing the clean unique user locations "
   ]
  },
  {
   "cell_type": "code",
   "execution_count": 8,
   "id": "d3236cd3-28c2-460d-a9fc-ab72e05fd037",
   "metadata": {
    "tags": []
   },
   "outputs": [],
   "source": [
    "clean_user_location = pd.read_excel(\"UserLocationClean.xlsx\", sheet_name='IsoCodes', engine=\"openpyxl\")"
   ]
  },
  {
   "cell_type": "code",
   "execution_count": 9,
   "id": "4fdb32b5-a63c-4eea-9e03-b7f8a08fc1fa",
   "metadata": {
    "tags": []
   },
   "outputs": [
    {
     "data": {
      "text/plain": [
       "(12613, 2)"
      ]
     },
     "execution_count": 9,
     "metadata": {},
     "output_type": "execute_result"
    }
   ],
   "source": [
    "clean_user_location.shape"
   ]
  },
  {
   "cell_type": "code",
   "execution_count": 10,
   "id": "c639c898-3404-4de1-b824-9f77ffa6fefb",
   "metadata": {
    "tags": []
   },
   "outputs": [
    {
     "data": {
      "text/html": [
       "<div>\n",
       "<style scoped>\n",
       "    .dataframe tbody tr th:only-of-type {\n",
       "        vertical-align: middle;\n",
       "    }\n",
       "\n",
       "    .dataframe tbody tr th {\n",
       "        vertical-align: top;\n",
       "    }\n",
       "\n",
       "    .dataframe thead th {\n",
       "        text-align: right;\n",
       "    }\n",
       "</style>\n",
       "<table border=\"1\" class=\"dataframe\">\n",
       "  <thead>\n",
       "    <tr style=\"text-align: right;\">\n",
       "      <th></th>\n",
       "      <th>userLocation</th>\n",
       "      <th>userISOCode</th>\n",
       "    </tr>\n",
       "  </thead>\n",
       "  <tbody>\n",
       "    <tr>\n",
       "      <th>0</th>\n",
       "      <td>Indianapolis, IN</td>\n",
       "      <td>US</td>\n",
       "    </tr>\n",
       "    <tr>\n",
       "      <th>1</th>\n",
       "      <td>Bandon, Ireland</td>\n",
       "      <td>IE</td>\n",
       "    </tr>\n",
       "    <tr>\n",
       "      <th>2</th>\n",
       "      <td>Valencia, Spain</td>\n",
       "      <td>ES</td>\n",
       "    </tr>\n",
       "    <tr>\n",
       "      <th>3</th>\n",
       "      <td>Madrid, Spain</td>\n",
       "      <td>ES</td>\n",
       "    </tr>\n",
       "    <tr>\n",
       "      <th>4</th>\n",
       "      <td>Towaco, NJ</td>\n",
       "      <td>US</td>\n",
       "    </tr>\n",
       "  </tbody>\n",
       "</table>\n",
       "</div>"
      ],
      "text/plain": [
       "       userLocation userISOCode\n",
       "0  Indianapolis, IN          US\n",
       "1   Bandon, Ireland          IE\n",
       "2   Valencia, Spain          ES\n",
       "3     Madrid, Spain          ES\n",
       "4        Towaco, NJ          US"
      ]
     },
     "execution_count": 10,
     "metadata": {},
     "output_type": "execute_result"
    }
   ],
   "source": [
    "clean_user_location.head()"
   ]
  },
  {
   "cell_type": "markdown",
   "id": "925292fe-b0ac-434e-a465-81335bf4dd80",
   "metadata": {},
   "source": [
    "### 4. Data Cleaning\n",
    "#### 4.1. Data cleaning of sheet Attractions\n",
    "\n",
    "Quality Assessment from Data understanding: \n",
    "- Scot (line 62) need to be corrected to Scotland\n",
    "- Line 44 - Poland - HR - wrong ISO code\n",
    "- Curaçao is not in Europe\n",
    "- Line 77 - Italy - VA; it's best to consider Vatican City with Italy ISO code."
   ]
  },
  {
   "cell_type": "code",
   "execution_count": 11,
   "id": "9b0a5af2-3c09-41cd-ad26-3f81da6ae3a8",
   "metadata": {
    "tags": []
   },
   "outputs": [
    {
     "data": {
      "text/html": [
       "<div>\n",
       "<style scoped>\n",
       "    .dataframe tbody tr th:only-of-type {\n",
       "        vertical-align: middle;\n",
       "    }\n",
       "\n",
       "    .dataframe tbody tr th {\n",
       "        vertical-align: top;\n",
       "    }\n",
       "\n",
       "    .dataframe thead th {\n",
       "        text-align: right;\n",
       "    }\n",
       "</style>\n",
       "<table border=\"1\" class=\"dataframe\">\n",
       "  <thead>\n",
       "    <tr style=\"text-align: right;\">\n",
       "      <th></th>\n",
       "      <th>ID</th>\n",
       "      <th>Name</th>\n",
       "      <th>Country</th>\n",
       "      <th>ISO</th>\n",
       "    </tr>\n",
       "  </thead>\n",
       "  <tbody>\n",
       "    <tr>\n",
       "      <th>0</th>\n",
       "      <td>MAG001</td>\n",
       "      <td>Basilica of the Sagrada Familia</td>\n",
       "      <td>Spain</td>\n",
       "      <td>ES</td>\n",
       "    </tr>\n",
       "    <tr>\n",
       "      <th>1</th>\n",
       "      <td>MAG002</td>\n",
       "      <td>Parc Guell</td>\n",
       "      <td>Spain</td>\n",
       "      <td>ES</td>\n",
       "    </tr>\n",
       "    <tr>\n",
       "      <th>2</th>\n",
       "      <td>MAG003</td>\n",
       "      <td>Tower of London</td>\n",
       "      <td>England</td>\n",
       "      <td>UK</td>\n",
       "    </tr>\n",
       "    <tr>\n",
       "      <th>3</th>\n",
       "      <td>MAG004</td>\n",
       "      <td>Casa Batllo</td>\n",
       "      <td>Spain</td>\n",
       "      <td>ES</td>\n",
       "    </tr>\n",
       "    <tr>\n",
       "      <th>4</th>\n",
       "      <td>MAG005</td>\n",
       "      <td>Staromestske namesti</td>\n",
       "      <td>Czech Republic</td>\n",
       "      <td>CZ</td>\n",
       "    </tr>\n",
       "  </tbody>\n",
       "</table>\n",
       "</div>"
      ],
      "text/plain": [
       "       ID                             Name         Country ISO\n",
       "0  MAG001  Basilica of the Sagrada Familia           Spain  ES\n",
       "1  MAG002                       Parc Guell           Spain  ES\n",
       "2  MAG003                  Tower of London         England  UK\n",
       "3  MAG004                      Casa Batllo           Spain  ES\n",
       "4  MAG005             Staromestske namesti  Czech Republic  CZ"
      ]
     },
     "execution_count": 11,
     "metadata": {},
     "output_type": "execute_result"
    }
   ],
   "source": [
    "Attractions.head()"
   ]
  },
  {
   "cell_type": "code",
   "execution_count": 12,
   "id": "df6e5a8d-68af-4e5b-a4c9-6680cf4c252e",
   "metadata": {
    "tags": []
   },
   "outputs": [
    {
     "data": {
      "text/html": [
       "<div>\n",
       "<style scoped>\n",
       "    .dataframe tbody tr th:only-of-type {\n",
       "        vertical-align: middle;\n",
       "    }\n",
       "\n",
       "    .dataframe tbody tr th {\n",
       "        vertical-align: top;\n",
       "    }\n",
       "\n",
       "    .dataframe thead th {\n",
       "        text-align: right;\n",
       "    }\n",
       "</style>\n",
       "<table border=\"1\" class=\"dataframe\">\n",
       "  <thead>\n",
       "    <tr style=\"text-align: right;\">\n",
       "      <th></th>\n",
       "      <th>ID</th>\n",
       "      <th>Name</th>\n",
       "      <th>Country</th>\n",
       "      <th>ISO</th>\n",
       "    </tr>\n",
       "  </thead>\n",
       "  <tbody>\n",
       "  </tbody>\n",
       "</table>\n",
       "</div>"
      ],
      "text/plain": [
       "Empty DataFrame\n",
       "Columns: [ID, Name, Country, ISO]\n",
       "Index: []"
      ]
     },
     "execution_count": 12,
     "metadata": {},
     "output_type": "execute_result"
    }
   ],
   "source": [
    "Attractions[Attractions.duplicated(subset='ID', keep=False)]"
   ]
  },
  {
   "cell_type": "markdown",
   "id": "21019f7c-2c4e-45df-a670-611489979e3f",
   "metadata": {},
   "source": [
    "##### All the Ids are unique, and as we´ve seen before we have 2 attractions with the same name but they are in different countries:"
   ]
  },
  {
   "cell_type": "markdown",
   "id": "e945ed2d-65c9-4d93-958d-9ffdbee844a3",
   "metadata": {},
   "source": [
    "##### All the Ids are unique, lets see if we have the different Ids for the same attraction:"
   ]
  },
  {
   "cell_type": "code",
   "execution_count": 13,
   "id": "28984a69-0a58-4da7-a8c0-c15d33079250",
   "metadata": {
    "tags": []
   },
   "outputs": [
    {
     "data": {
      "text/html": [
       "<div>\n",
       "<style scoped>\n",
       "    .dataframe tbody tr th:only-of-type {\n",
       "        vertical-align: middle;\n",
       "    }\n",
       "\n",
       "    .dataframe tbody tr th {\n",
       "        vertical-align: top;\n",
       "    }\n",
       "\n",
       "    .dataframe thead th {\n",
       "        text-align: right;\n",
       "    }\n",
       "</style>\n",
       "<table border=\"1\" class=\"dataframe\">\n",
       "  <thead>\n",
       "    <tr style=\"text-align: right;\">\n",
       "      <th></th>\n",
       "      <th>ID</th>\n",
       "      <th>Name</th>\n",
       "      <th>Country</th>\n",
       "      <th>ISO</th>\n",
       "    </tr>\n",
       "  </thead>\n",
       "  <tbody>\n",
       "    <tr>\n",
       "      <th>30</th>\n",
       "      <td>MAG031</td>\n",
       "      <td>Old Town</td>\n",
       "      <td>Croatia</td>\n",
       "      <td>HR</td>\n",
       "    </tr>\n",
       "    <tr>\n",
       "      <th>44</th>\n",
       "      <td>MAG045</td>\n",
       "      <td>Old Town</td>\n",
       "      <td>Poland</td>\n",
       "      <td>HR</td>\n",
       "    </tr>\n",
       "  </tbody>\n",
       "</table>\n",
       "</div>"
      ],
      "text/plain": [
       "        ID      Name  Country ISO\n",
       "30  MAG031  Old Town  Croatia  HR\n",
       "44  MAG045  Old Town   Poland  HR"
      ]
     },
     "execution_count": 13,
     "metadata": {},
     "output_type": "execute_result"
    }
   ],
   "source": [
    "Attractions[Attractions.duplicated(subset='Name', keep=False)]"
   ]
  },
  {
   "cell_type": "markdown",
   "id": "6e62a2ea-ff6d-4822-aff5-75d4de4cdc24",
   "metadata": {
    "tags": []
   },
   "source": [
    "##### So we have 2 attarattions with the same name but they are in different countries so they need different Ids."
   ]
  },
  {
   "cell_type": "code",
   "execution_count": 14,
   "id": "1b8d2e8a-a238-4460-8d73-a597fe620e7f",
   "metadata": {
    "tags": []
   },
   "outputs": [
    {
     "data": {
      "text/html": [
       "<div>\n",
       "<style scoped>\n",
       "    .dataframe tbody tr th:only-of-type {\n",
       "        vertical-align: middle;\n",
       "    }\n",
       "\n",
       "    .dataframe tbody tr th {\n",
       "        vertical-align: top;\n",
       "    }\n",
       "\n",
       "    .dataframe thead th {\n",
       "        text-align: right;\n",
       "    }\n",
       "</style>\n",
       "<table border=\"1\" class=\"dataframe\">\n",
       "  <thead>\n",
       "    <tr style=\"text-align: right;\">\n",
       "      <th></th>\n",
       "      <th>Country</th>\n",
       "      <th>ISO</th>\n",
       "    </tr>\n",
       "  </thead>\n",
       "  <tbody>\n",
       "    <tr>\n",
       "      <th>6</th>\n",
       "      <td>Austria</td>\n",
       "      <td>AT</td>\n",
       "    </tr>\n",
       "    <tr>\n",
       "      <th>12</th>\n",
       "      <td>Belgium</td>\n",
       "      <td>BE</td>\n",
       "    </tr>\n",
       "    <tr>\n",
       "      <th>59</th>\n",
       "      <td>Bulgaria</td>\n",
       "      <td>BG</td>\n",
       "    </tr>\n",
       "    <tr>\n",
       "      <th>30</th>\n",
       "      <td>Croatia</td>\n",
       "      <td>HR</td>\n",
       "    </tr>\n",
       "    <tr>\n",
       "      <th>82</th>\n",
       "      <td>Curaçao</td>\n",
       "      <td>NL</td>\n",
       "    </tr>\n",
       "    <tr>\n",
       "      <th>75</th>\n",
       "      <td>Cyprus</td>\n",
       "      <td>CY</td>\n",
       "    </tr>\n",
       "    <tr>\n",
       "      <th>4</th>\n",
       "      <td>Czech Republic</td>\n",
       "      <td>CZ</td>\n",
       "    </tr>\n",
       "    <tr>\n",
       "      <th>2</th>\n",
       "      <td>England</td>\n",
       "      <td>UK</td>\n",
       "    </tr>\n",
       "    <tr>\n",
       "      <th>39</th>\n",
       "      <td>Estonia</td>\n",
       "      <td>EE</td>\n",
       "    </tr>\n",
       "    <tr>\n",
       "      <th>69</th>\n",
       "      <td>Finland</td>\n",
       "      <td>FI</td>\n",
       "    </tr>\n",
       "    <tr>\n",
       "      <th>17</th>\n",
       "      <td>France</td>\n",
       "      <td>FR</td>\n",
       "    </tr>\n",
       "    <tr>\n",
       "      <th>25</th>\n",
       "      <td>Germany</td>\n",
       "      <td>DE</td>\n",
       "    </tr>\n",
       "    <tr>\n",
       "      <th>10</th>\n",
       "      <td>Greece</td>\n",
       "      <td>GR</td>\n",
       "    </tr>\n",
       "    <tr>\n",
       "      <th>41</th>\n",
       "      <td>Hungary</td>\n",
       "      <td>HU</td>\n",
       "    </tr>\n",
       "    <tr>\n",
       "      <th>8</th>\n",
       "      <td>Italy</td>\n",
       "      <td>IT</td>\n",
       "    </tr>\n",
       "    <tr>\n",
       "      <th>77</th>\n",
       "      <td>Italy</td>\n",
       "      <td>VA</td>\n",
       "    </tr>\n",
       "    <tr>\n",
       "      <th>78</th>\n",
       "      <td>Latvia</td>\n",
       "      <td>LV</td>\n",
       "    </tr>\n",
       "    <tr>\n",
       "      <th>87</th>\n",
       "      <td>Lithuania</td>\n",
       "      <td>LT</td>\n",
       "    </tr>\n",
       "    <tr>\n",
       "      <th>91</th>\n",
       "      <td>Montenegro</td>\n",
       "      <td>ME</td>\n",
       "    </tr>\n",
       "    <tr>\n",
       "      <th>90</th>\n",
       "      <td>Norway</td>\n",
       "      <td>NO</td>\n",
       "    </tr>\n",
       "    <tr>\n",
       "      <th>44</th>\n",
       "      <td>Poland</td>\n",
       "      <td>HR</td>\n",
       "    </tr>\n",
       "    <tr>\n",
       "      <th>16</th>\n",
       "      <td>Poland</td>\n",
       "      <td>PL</td>\n",
       "    </tr>\n",
       "    <tr>\n",
       "      <th>9</th>\n",
       "      <td>Portugal</td>\n",
       "      <td>PT</td>\n",
       "    </tr>\n",
       "    <tr>\n",
       "      <th>15</th>\n",
       "      <td>Russia</td>\n",
       "      <td>RU</td>\n",
       "    </tr>\n",
       "    <tr>\n",
       "      <th>62</th>\n",
       "      <td>Scot</td>\n",
       "      <td>UK</td>\n",
       "    </tr>\n",
       "    <tr>\n",
       "      <th>5</th>\n",
       "      <td>Scotland</td>\n",
       "      <td>UK</td>\n",
       "    </tr>\n",
       "    <tr>\n",
       "      <th>0</th>\n",
       "      <td>Spain</td>\n",
       "      <td>ES</td>\n",
       "    </tr>\n",
       "    <tr>\n",
       "      <th>50</th>\n",
       "      <td>Turkey</td>\n",
       "      <td>TR</td>\n",
       "    </tr>\n",
       "  </tbody>\n",
       "</table>\n",
       "</div>"
      ],
      "text/plain": [
       "           Country ISO\n",
       "6          Austria  AT\n",
       "12         Belgium  BE\n",
       "59        Bulgaria  BG\n",
       "30         Croatia  HR\n",
       "82         Curaçao  NL\n",
       "75          Cyprus  CY\n",
       "4   Czech Republic  CZ\n",
       "2          England  UK\n",
       "39         Estonia  EE\n",
       "69         Finland  FI\n",
       "17          France  FR\n",
       "25         Germany  DE\n",
       "10          Greece  GR\n",
       "41         Hungary  HU\n",
       "8            Italy  IT\n",
       "77           Italy  VA\n",
       "78          Latvia  LV\n",
       "87       Lithuania  LT\n",
       "91      Montenegro  ME\n",
       "90          Norway  NO\n",
       "44          Poland  HR\n",
       "16          Poland  PL\n",
       "9         Portugal  PT\n",
       "15          Russia  RU\n",
       "62            Scot  UK\n",
       "5         Scotland  UK\n",
       "0            Spain  ES\n",
       "50          Turkey  TR"
      ]
     },
     "execution_count": 14,
     "metadata": {},
     "output_type": "execute_result"
    }
   ],
   "source": [
    "Attractions.drop_duplicates(subset=['Country','ISO'])[['Country','ISO']].sort_values(by='Country')"
   ]
  },
  {
   "cell_type": "code",
   "execution_count": 15,
   "id": "aa16d6d8-5754-481c-9ce6-480194b9450e",
   "metadata": {
    "tags": []
   },
   "outputs": [],
   "source": [
    "Attractions['Country'].replace({'Scot': 'Scotland'}, inplace=True)"
   ]
  },
  {
   "cell_type": "code",
   "execution_count": 16,
   "id": "fa4c7868-8b93-4af6-811d-af69e9132b3f",
   "metadata": {
    "tags": []
   },
   "outputs": [],
   "source": [
    "Attractions['ISO'] = Attractions['ISO'].mask((Attractions['ISO'] == 'HR') & (Attractions['Country'] == 'Poland'), 'PL')"
   ]
  },
  {
   "cell_type": "code",
   "execution_count": 17,
   "id": "fe76c642-d4af-45b3-8def-dd484d7d9ea2",
   "metadata": {
    "tags": []
   },
   "outputs": [],
   "source": [
    "Attractions['ISO'].replace({'VA': 'IT'}, inplace=True)"
   ]
  },
  {
   "cell_type": "code",
   "execution_count": 18,
   "id": "e2ec0155-499e-4811-8ae8-0de821c9e827",
   "metadata": {
    "tags": []
   },
   "outputs": [],
   "source": [
    "Attractions['ISO'].replace({'UK': 'GB'}, inplace=True)"
   ]
  },
  {
   "cell_type": "markdown",
   "id": "b2f1ca5c-aad2-40d9-b7e4-a38a1725de73",
   "metadata": {},
   "source": [
    "We need to eliminate the reviews from Curaçao, but we are planning to do this after the merge to ensure that the rows are consistent first."
   ]
  },
  {
   "cell_type": "code",
   "execution_count": 19,
   "id": "24dc67c4-cef0-4faf-8f11-7a4b01021dfe",
   "metadata": {
    "tags": []
   },
   "outputs": [
    {
     "data": {
      "text/html": [
       "<div>\n",
       "<style scoped>\n",
       "    .dataframe tbody tr th:only-of-type {\n",
       "        vertical-align: middle;\n",
       "    }\n",
       "\n",
       "    .dataframe tbody tr th {\n",
       "        vertical-align: top;\n",
       "    }\n",
       "\n",
       "    .dataframe thead th {\n",
       "        text-align: right;\n",
       "    }\n",
       "</style>\n",
       "<table border=\"1\" class=\"dataframe\">\n",
       "  <thead>\n",
       "    <tr style=\"text-align: right;\">\n",
       "      <th></th>\n",
       "      <th>ID</th>\n",
       "      <th>Name</th>\n",
       "      <th>Country</th>\n",
       "      <th>ISO</th>\n",
       "    </tr>\n",
       "  </thead>\n",
       "  <tbody>\n",
       "    <tr>\n",
       "      <th>82</th>\n",
       "      <td>MAG083</td>\n",
       "      <td>Queen Emma Pontoon Bridge</td>\n",
       "      <td>Curaçao</td>\n",
       "      <td>NL</td>\n",
       "    </tr>\n",
       "  </tbody>\n",
       "</table>\n",
       "</div>"
      ],
      "text/plain": [
       "        ID                       Name  Country ISO\n",
       "82  MAG083  Queen Emma Pontoon Bridge  Curaçao  NL"
      ]
     },
     "execution_count": 19,
     "metadata": {},
     "output_type": "execute_result"
    }
   ],
   "source": [
    "Attractions[Attractions['Country'] == 'Curaçao']"
   ]
  },
  {
   "cell_type": "code",
   "execution_count": 20,
   "id": "27a22d20-1f0a-4a7f-80f8-dab713fe963f",
   "metadata": {
    "tags": []
   },
   "outputs": [
    {
     "data": {
      "text/plain": [
       "(100, 4)"
      ]
     },
     "execution_count": 20,
     "metadata": {},
     "output_type": "execute_result"
    }
   ],
   "source": [
    "Attractions.shape"
   ]
  },
  {
   "cell_type": "markdown",
   "id": "f75628ee-0988-47fe-b7e2-90ba23423804",
   "metadata": {
    "tags": []
   },
   "source": [
    "#### 4.2. Sheet Reviews\n",
    "Quality Assessment from Data understanding: \n",
    "\n",
    "- **`userLocation`** column is a good column to explore but since the data format is not normalize (has various types like NY, New York or United States...), we need to normalize this column to analyze potencial patterns.\n",
    "\n",
    "- **Missing Values:** Four columns have missing values: `userName`, `userLocation`, `tripType`, and `reviewVisited`. Addressing this issue will be a priority during the Data Preparation section.\n",
    "\n",
    "- **Outliers:** The dataset exhibits outliers in terms of `usercontributions` and `totalReviews`, with a significantly deviating from the mean. This will require further investigation.\n",
    "\n",
    "- **Duplicate Rows:** There are 7,012 potential duplicate rows (excluding `extractionDate`). These entries will undergo further analysis to determine their nature and relevance.\n",
    "\n",
    "- `LocalID` values with 'u' and 'genis' need to be replaced."
   ]
  },
  {
   "cell_type": "code",
   "execution_count": 21,
   "id": "8b8a07bf-a729-4309-be6c-b5e3a3b2b30d",
   "metadata": {},
   "outputs": [
    {
     "data": {
      "text/html": [
       "<div>\n",
       "<style scoped>\n",
       "    .dataframe tbody tr th:only-of-type {\n",
       "        vertical-align: middle;\n",
       "    }\n",
       "\n",
       "    .dataframe tbody tr th {\n",
       "        vertical-align: top;\n",
       "    }\n",
       "\n",
       "    .dataframe thead th {\n",
       "        text-align: right;\n",
       "    }\n",
       "</style>\n",
       "<table border=\"1\" class=\"dataframe\">\n",
       "  <thead>\n",
       "    <tr style=\"text-align: right;\">\n",
       "      <th></th>\n",
       "      <th>count</th>\n",
       "      <th>unique</th>\n",
       "      <th>top</th>\n",
       "      <th>freq</th>\n",
       "      <th>mean</th>\n",
       "      <th>min</th>\n",
       "      <th>25%</th>\n",
       "      <th>50%</th>\n",
       "      <th>75%</th>\n",
       "      <th>max</th>\n",
       "      <th>std</th>\n",
       "    </tr>\n",
       "  </thead>\n",
       "  <tbody>\n",
       "    <tr>\n",
       "      <th>localID</th>\n",
       "      <td>92120</td>\n",
       "      <td>100</td>\n",
       "      <td>MAG001</td>\n",
       "      <td>8309</td>\n",
       "      <td>NaN</td>\n",
       "      <td>NaN</td>\n",
       "      <td>NaN</td>\n",
       "      <td>NaN</td>\n",
       "      <td>NaN</td>\n",
       "      <td>NaN</td>\n",
       "      <td>NaN</td>\n",
       "    </tr>\n",
       "    <tr>\n",
       "      <th>extractionDate</th>\n",
       "      <td>92120</td>\n",
       "      <td>NaN</td>\n",
       "      <td>NaN</td>\n",
       "      <td>NaN</td>\n",
       "      <td>2021-08-20 22:09:20.598932992</td>\n",
       "      <td>2021-08-20 08:24:40.077000</td>\n",
       "      <td>2021-08-20 12:08:10.831000064</td>\n",
       "      <td>2021-08-20 15:46:58.171000064</td>\n",
       "      <td>2021-08-21 12:35:39.817250048</td>\n",
       "      <td>2021-08-21 16:27:17.026000</td>\n",
       "      <td>NaN</td>\n",
       "    </tr>\n",
       "    <tr>\n",
       "      <th>globalRating</th>\n",
       "      <td>92120.0</td>\n",
       "      <td>NaN</td>\n",
       "      <td>NaN</td>\n",
       "      <td>NaN</td>\n",
       "      <td>4.485166</td>\n",
       "      <td>4.0</td>\n",
       "      <td>4.5</td>\n",
       "      <td>4.5</td>\n",
       "      <td>4.5</td>\n",
       "      <td>5.0</td>\n",
       "      <td>0.178085</td>\n",
       "    </tr>\n",
       "    <tr>\n",
       "      <th>positionOnRanking</th>\n",
       "      <td>92120.0</td>\n",
       "      <td>NaN</td>\n",
       "      <td>NaN</td>\n",
       "      <td>NaN</td>\n",
       "      <td>3.91459</td>\n",
       "      <td>1.0</td>\n",
       "      <td>1.0</td>\n",
       "      <td>2.0</td>\n",
       "      <td>6.0</td>\n",
       "      <td>55.0</td>\n",
       "      <td>4.843013</td>\n",
       "    </tr>\n",
       "    <tr>\n",
       "      <th>sitesOnRanking</th>\n",
       "      <td>92120.0</td>\n",
       "      <td>NaN</td>\n",
       "      <td>NaN</td>\n",
       "      <td>NaN</td>\n",
       "      <td>748.263537</td>\n",
       "      <td>5.0</td>\n",
       "      <td>154.0</td>\n",
       "      <td>484.0</td>\n",
       "      <td>1186.0</td>\n",
       "      <td>3837.0</td>\n",
       "      <td>802.742304</td>\n",
       "    </tr>\n",
       "    <tr>\n",
       "      <th>totalReviews</th>\n",
       "      <td>92120.0</td>\n",
       "      <td>NaN</td>\n",
       "      <td>NaN</td>\n",
       "      <td>NaN</td>\n",
       "      <td>40556.601813</td>\n",
       "      <td>5179.0</td>\n",
       "      <td>14152.0</td>\n",
       "      <td>24454.0</td>\n",
       "      <td>51324.0</td>\n",
       "      <td>163828.0</td>\n",
       "      <td>42914.381014</td>\n",
       "    </tr>\n",
       "    <tr>\n",
       "      <th>userName</th>\n",
       "      <td>92100</td>\n",
       "      <td>65785</td>\n",
       "      <td>Malgorzata@Margo7850p</td>\n",
       "      <td>31</td>\n",
       "      <td>NaN</td>\n",
       "      <td>NaN</td>\n",
       "      <td>NaN</td>\n",
       "      <td>NaN</td>\n",
       "      <td>NaN</td>\n",
       "      <td>NaN</td>\n",
       "      <td>NaN</td>\n",
       "    </tr>\n",
       "    <tr>\n",
       "      <th>userLocation</th>\n",
       "      <td>78652</td>\n",
       "      <td>12613</td>\n",
       "      <td>London, UK</td>\n",
       "      <td>3710</td>\n",
       "      <td>NaN</td>\n",
       "      <td>NaN</td>\n",
       "      <td>NaN</td>\n",
       "      <td>NaN</td>\n",
       "      <td>NaN</td>\n",
       "      <td>NaN</td>\n",
       "      <td>NaN</td>\n",
       "    </tr>\n",
       "    <tr>\n",
       "      <th>userContributions</th>\n",
       "      <td>92120.0</td>\n",
       "      <td>NaN</td>\n",
       "      <td>NaN</td>\n",
       "      <td>NaN</td>\n",
       "      <td>477.52056</td>\n",
       "      <td>0.0</td>\n",
       "      <td>20.0</td>\n",
       "      <td>66.0</td>\n",
       "      <td>215.0</td>\n",
       "      <td>607732.0</td>\n",
       "      <td>7270.518677</td>\n",
       "    </tr>\n",
       "    <tr>\n",
       "      <th>tripType</th>\n",
       "      <td>63052</td>\n",
       "      <td>5</td>\n",
       "      <td>Couples</td>\n",
       "      <td>31702</td>\n",
       "      <td>NaN</td>\n",
       "      <td>NaN</td>\n",
       "      <td>NaN</td>\n",
       "      <td>NaN</td>\n",
       "      <td>NaN</td>\n",
       "      <td>NaN</td>\n",
       "      <td>NaN</td>\n",
       "    </tr>\n",
       "    <tr>\n",
       "      <th>reviewWritten</th>\n",
       "      <td>92120</td>\n",
       "      <td>NaN</td>\n",
       "      <td>NaN</td>\n",
       "      <td>NaN</td>\n",
       "      <td>2019-09-02 16:05:57.967868160</td>\n",
       "      <td>2019-01-01 00:00:00</td>\n",
       "      <td>2019-05-11 00:00:00</td>\n",
       "      <td>2019-08-07 00:00:00</td>\n",
       "      <td>2019-11-05 00:00:00</td>\n",
       "      <td>2021-08-21 00:00:00</td>\n",
       "      <td>NaN</td>\n",
       "    </tr>\n",
       "    <tr>\n",
       "      <th>reviewVisited</th>\n",
       "      <td>91410</td>\n",
       "      <td>NaN</td>\n",
       "      <td>NaN</td>\n",
       "      <td>NaN</td>\n",
       "      <td>2019-07-19 02:09:01.122415104</td>\n",
       "      <td>2015-10-01 00:00:00</td>\n",
       "      <td>2019-04-01 00:00:00</td>\n",
       "      <td>2019-07-01 00:00:00</td>\n",
       "      <td>2019-10-01 00:00:00</td>\n",
       "      <td>2021-08-01 00:00:00</td>\n",
       "      <td>NaN</td>\n",
       "    </tr>\n",
       "    <tr>\n",
       "      <th>reviewRating</th>\n",
       "      <td>92120.0</td>\n",
       "      <td>NaN</td>\n",
       "      <td>NaN</td>\n",
       "      <td>NaN</td>\n",
       "      <td>4.578658</td>\n",
       "      <td>1.0</td>\n",
       "      <td>4.0</td>\n",
       "      <td>5.0</td>\n",
       "      <td>5.0</td>\n",
       "      <td>5.0</td>\n",
       "      <td>0.792693</td>\n",
       "    </tr>\n",
       "    <tr>\n",
       "      <th>reviewLanguage</th>\n",
       "      <td>92120</td>\n",
       "      <td>1</td>\n",
       "      <td>en</td>\n",
       "      <td>92120</td>\n",
       "      <td>NaN</td>\n",
       "      <td>NaN</td>\n",
       "      <td>NaN</td>\n",
       "      <td>NaN</td>\n",
       "      <td>NaN</td>\n",
       "      <td>NaN</td>\n",
       "      <td>NaN</td>\n",
       "    </tr>\n",
       "    <tr>\n",
       "      <th>reviewFullText</th>\n",
       "      <td>92120</td>\n",
       "      <td>85088</td>\n",
       "      <td>Is a nice place to visit when you visit Barcel...</td>\n",
       "      <td>3</td>\n",
       "      <td>NaN</td>\n",
       "      <td>NaN</td>\n",
       "      <td>NaN</td>\n",
       "      <td>NaN</td>\n",
       "      <td>NaN</td>\n",
       "      <td>NaN</td>\n",
       "      <td>NaN</td>\n",
       "    </tr>\n",
       "  </tbody>\n",
       "</table>\n",
       "</div>"
      ],
      "text/plain": [
       "                     count unique  \\\n",
       "localID              92120    100   \n",
       "extractionDate       92120    NaN   \n",
       "globalRating       92120.0    NaN   \n",
       "positionOnRanking  92120.0    NaN   \n",
       "sitesOnRanking     92120.0    NaN   \n",
       "totalReviews       92120.0    NaN   \n",
       "userName             92100  65785   \n",
       "userLocation         78652  12613   \n",
       "userContributions  92120.0    NaN   \n",
       "tripType             63052      5   \n",
       "reviewWritten        92120    NaN   \n",
       "reviewVisited        91410    NaN   \n",
       "reviewRating       92120.0    NaN   \n",
       "reviewLanguage       92120      1   \n",
       "reviewFullText       92120  85088   \n",
       "\n",
       "                                                                 top   freq  \\\n",
       "localID                                                       MAG001   8309   \n",
       "extractionDate                                                   NaN    NaN   \n",
       "globalRating                                                     NaN    NaN   \n",
       "positionOnRanking                                                NaN    NaN   \n",
       "sitesOnRanking                                                   NaN    NaN   \n",
       "totalReviews                                                     NaN    NaN   \n",
       "userName                                       Malgorzata@Margo7850p     31   \n",
       "userLocation                                              London, UK   3710   \n",
       "userContributions                                                NaN    NaN   \n",
       "tripType                                                     Couples  31702   \n",
       "reviewWritten                                                    NaN    NaN   \n",
       "reviewVisited                                                    NaN    NaN   \n",
       "reviewRating                                                     NaN    NaN   \n",
       "reviewLanguage                                                    en  92120   \n",
       "reviewFullText     Is a nice place to visit when you visit Barcel...      3   \n",
       "\n",
       "                                            mean                         min  \\\n",
       "localID                                      NaN                         NaN   \n",
       "extractionDate     2021-08-20 22:09:20.598932992  2021-08-20 08:24:40.077000   \n",
       "globalRating                            4.485166                         4.0   \n",
       "positionOnRanking                        3.91459                         1.0   \n",
       "sitesOnRanking                        748.263537                         5.0   \n",
       "totalReviews                        40556.601813                      5179.0   \n",
       "userName                                     NaN                         NaN   \n",
       "userLocation                                 NaN                         NaN   \n",
       "userContributions                      477.52056                         0.0   \n",
       "tripType                                     NaN                         NaN   \n",
       "reviewWritten      2019-09-02 16:05:57.967868160         2019-01-01 00:00:00   \n",
       "reviewVisited      2019-07-19 02:09:01.122415104         2015-10-01 00:00:00   \n",
       "reviewRating                            4.578658                         1.0   \n",
       "reviewLanguage                               NaN                         NaN   \n",
       "reviewFullText                               NaN                         NaN   \n",
       "\n",
       "                                             25%  \\\n",
       "localID                                      NaN   \n",
       "extractionDate     2021-08-20 12:08:10.831000064   \n",
       "globalRating                                 4.5   \n",
       "positionOnRanking                            1.0   \n",
       "sitesOnRanking                             154.0   \n",
       "totalReviews                             14152.0   \n",
       "userName                                     NaN   \n",
       "userLocation                                 NaN   \n",
       "userContributions                           20.0   \n",
       "tripType                                     NaN   \n",
       "reviewWritten                2019-05-11 00:00:00   \n",
       "reviewVisited                2019-04-01 00:00:00   \n",
       "reviewRating                                 4.0   \n",
       "reviewLanguage                               NaN   \n",
       "reviewFullText                               NaN   \n",
       "\n",
       "                                             50%  \\\n",
       "localID                                      NaN   \n",
       "extractionDate     2021-08-20 15:46:58.171000064   \n",
       "globalRating                                 4.5   \n",
       "positionOnRanking                            2.0   \n",
       "sitesOnRanking                             484.0   \n",
       "totalReviews                             24454.0   \n",
       "userName                                     NaN   \n",
       "userLocation                                 NaN   \n",
       "userContributions                           66.0   \n",
       "tripType                                     NaN   \n",
       "reviewWritten                2019-08-07 00:00:00   \n",
       "reviewVisited                2019-07-01 00:00:00   \n",
       "reviewRating                                 5.0   \n",
       "reviewLanguage                               NaN   \n",
       "reviewFullText                               NaN   \n",
       "\n",
       "                                             75%                         max  \\\n",
       "localID                                      NaN                         NaN   \n",
       "extractionDate     2021-08-21 12:35:39.817250048  2021-08-21 16:27:17.026000   \n",
       "globalRating                                 4.5                         5.0   \n",
       "positionOnRanking                            6.0                        55.0   \n",
       "sitesOnRanking                            1186.0                      3837.0   \n",
       "totalReviews                             51324.0                    163828.0   \n",
       "userName                                     NaN                         NaN   \n",
       "userLocation                                 NaN                         NaN   \n",
       "userContributions                          215.0                    607732.0   \n",
       "tripType                                     NaN                         NaN   \n",
       "reviewWritten                2019-11-05 00:00:00         2021-08-21 00:00:00   \n",
       "reviewVisited                2019-10-01 00:00:00         2021-08-01 00:00:00   \n",
       "reviewRating                                 5.0                         5.0   \n",
       "reviewLanguage                               NaN                         NaN   \n",
       "reviewFullText                               NaN                         NaN   \n",
       "\n",
       "                            std  \n",
       "localID                     NaN  \n",
       "extractionDate              NaN  \n",
       "globalRating           0.178085  \n",
       "positionOnRanking      4.843013  \n",
       "sitesOnRanking       802.742304  \n",
       "totalReviews       42914.381014  \n",
       "userName                    NaN  \n",
       "userLocation                NaN  \n",
       "userContributions   7270.518677  \n",
       "tripType                    NaN  \n",
       "reviewWritten               NaN  \n",
       "reviewVisited               NaN  \n",
       "reviewRating           0.792693  \n",
       "reviewLanguage              NaN  \n",
       "reviewFullText              NaN  "
      ]
     },
     "execution_count": 21,
     "metadata": {},
     "output_type": "execute_result"
    }
   ],
   "source": [
    "df1.describe(include='all', datetime_is_numeric=True).T"
   ]
  },
  {
   "cell_type": "markdown",
   "id": "352ce819-6a37-4a72-a0c9-27373e27c88a",
   "metadata": {},
   "source": [
    "##### userLocation with 12613 values, the exact same as the 'clean_user_location' dataframe as expected"
   ]
  },
  {
   "cell_type": "markdown",
   "id": "53e85e8d-1438-45c6-b505-eca3fb48e578",
   "metadata": {},
   "source": [
    "### - 'userLocation' preparation\n",
    "We have the dataframe with the unique values, and we are now going to perform the merge and address potential issues."
   ]
  },
  {
   "cell_type": "code",
   "execution_count": 22,
   "id": "41b4bb3b-35eb-49c1-a4f3-f8fd3591478d",
   "metadata": {
    "tags": []
   },
   "outputs": [],
   "source": [
    "reviews = pd.merge(df1, clean_user_location, on='userLocation', how='left')"
   ]
  },
  {
   "cell_type": "code",
   "execution_count": 23,
   "id": "96f4194b-eea7-4700-b7a6-025939b75ac1",
   "metadata": {
    "tags": []
   },
   "outputs": [
    {
     "data": {
      "text/html": [
       "<div>\n",
       "<style scoped>\n",
       "    .dataframe tbody tr th:only-of-type {\n",
       "        vertical-align: middle;\n",
       "    }\n",
       "\n",
       "    .dataframe tbody tr th {\n",
       "        vertical-align: top;\n",
       "    }\n",
       "\n",
       "    .dataframe thead th {\n",
       "        text-align: right;\n",
       "    }\n",
       "</style>\n",
       "<table border=\"1\" class=\"dataframe\">\n",
       "  <thead>\n",
       "    <tr style=\"text-align: right;\">\n",
       "      <th></th>\n",
       "      <th>localID</th>\n",
       "      <th>extractionDate</th>\n",
       "      <th>globalRating</th>\n",
       "      <th>positionOnRanking</th>\n",
       "      <th>sitesOnRanking</th>\n",
       "      <th>totalReviews</th>\n",
       "      <th>userName</th>\n",
       "      <th>userLocation</th>\n",
       "      <th>userContributions</th>\n",
       "      <th>tripType</th>\n",
       "      <th>reviewWritten</th>\n",
       "      <th>reviewVisited</th>\n",
       "      <th>reviewRating</th>\n",
       "      <th>reviewLanguage</th>\n",
       "      <th>reviewFullText</th>\n",
       "      <th>userISOCode</th>\n",
       "    </tr>\n",
       "  </thead>\n",
       "  <tbody>\n",
       "    <tr>\n",
       "      <th>0</th>\n",
       "      <td>MAG001</td>\n",
       "      <td>2021-08-20 08:24:40.077</td>\n",
       "      <td>4.5</td>\n",
       "      <td>1</td>\n",
       "      <td>1186</td>\n",
       "      <td>163828</td>\n",
       "      <td>Maurice M@MauriceM171</td>\n",
       "      <td>Indianapolis, IN</td>\n",
       "      <td>29</td>\n",
       "      <td>Couples</td>\n",
       "      <td>2021-08-18</td>\n",
       "      <td>2021-08-01</td>\n",
       "      <td>5</td>\n",
       "      <td>en</td>\n",
       "      <td>Absolutely breathtaking use of light, an amazi...</td>\n",
       "      <td>US</td>\n",
       "    </tr>\n",
       "  </tbody>\n",
       "</table>\n",
       "</div>"
      ],
      "text/plain": [
       "  localID          extractionDate  globalRating  positionOnRanking  \\\n",
       "0  MAG001 2021-08-20 08:24:40.077           4.5                  1   \n",
       "\n",
       "   sitesOnRanking  totalReviews               userName      userLocation  \\\n",
       "0            1186        163828  Maurice M@MauriceM171  Indianapolis, IN   \n",
       "\n",
       "   userContributions tripType reviewWritten reviewVisited  reviewRating  \\\n",
       "0                 29  Couples    2021-08-18    2021-08-01             5   \n",
       "\n",
       "  reviewLanguage                                     reviewFullText  \\\n",
       "0             en  Absolutely breathtaking use of light, an amazi...   \n",
       "\n",
       "  userISOCode  \n",
       "0          US  "
      ]
     },
     "execution_count": 23,
     "metadata": {},
     "output_type": "execute_result"
    }
   ],
   "source": [
    "reviews.head(1)"
   ]
  },
  {
   "cell_type": "code",
   "execution_count": 24,
   "id": "3672afc7-77cf-4cf3-b532-273733079c82",
   "metadata": {
    "tags": []
   },
   "outputs": [
    {
     "data": {
      "text/plain": [
       "(92120, 16)"
      ]
     },
     "execution_count": 24,
     "metadata": {},
     "output_type": "execute_result"
    }
   ],
   "source": [
    "reviews.shape"
   ]
  },
  {
   "cell_type": "code",
   "execution_count": 25,
   "id": "c39205c9-d408-4d16-8b1f-fc428590ef00",
   "metadata": {
    "tags": []
   },
   "outputs": [],
   "source": [
    "# Fill NaN values in 'userISOCode' column with None where 'userLocation' is NaN\n",
    "reviews['userISOCode'] = reviews.apply(lambda row: None if pd.isna(row['userLocation']) else row['userISOCode'], axis=1)"
   ]
  },
  {
   "cell_type": "code",
   "execution_count": 26,
   "id": "f73249f9-61a4-4c0c-acc1-35c0913efc39",
   "metadata": {
    "tags": []
   },
   "outputs": [
    {
     "data": {
      "text/html": [
       "<div>\n",
       "<style scoped>\n",
       "    .dataframe tbody tr th:only-of-type {\n",
       "        vertical-align: middle;\n",
       "    }\n",
       "\n",
       "    .dataframe tbody tr th {\n",
       "        vertical-align: top;\n",
       "    }\n",
       "\n",
       "    .dataframe thead th {\n",
       "        text-align: right;\n",
       "    }\n",
       "</style>\n",
       "<table border=\"1\" class=\"dataframe\">\n",
       "  <thead>\n",
       "    <tr style=\"text-align: right;\">\n",
       "      <th></th>\n",
       "      <th>localID</th>\n",
       "      <th>extractionDate</th>\n",
       "      <th>globalRating</th>\n",
       "      <th>positionOnRanking</th>\n",
       "      <th>sitesOnRanking</th>\n",
       "      <th>totalReviews</th>\n",
       "      <th>userName</th>\n",
       "      <th>userLocation</th>\n",
       "      <th>userContributions</th>\n",
       "      <th>tripType</th>\n",
       "      <th>reviewWritten</th>\n",
       "      <th>reviewVisited</th>\n",
       "      <th>reviewRating</th>\n",
       "      <th>reviewLanguage</th>\n",
       "      <th>reviewFullText</th>\n",
       "      <th>userISOCode</th>\n",
       "    </tr>\n",
       "  </thead>\n",
       "  <tbody>\n",
       "    <tr>\n",
       "      <th>0</th>\n",
       "      <td>MAG001</td>\n",
       "      <td>2021-08-20 08:24:40.077</td>\n",
       "      <td>4.5</td>\n",
       "      <td>1</td>\n",
       "      <td>1186</td>\n",
       "      <td>163828</td>\n",
       "      <td>Maurice M@MauriceM171</td>\n",
       "      <td>Indianapolis, IN</td>\n",
       "      <td>29</td>\n",
       "      <td>Couples</td>\n",
       "      <td>2021-08-18</td>\n",
       "      <td>2021-08-01</td>\n",
       "      <td>5</td>\n",
       "      <td>en</td>\n",
       "      <td>Absolutely breathtaking use of light, an amazi...</td>\n",
       "      <td>US</td>\n",
       "    </tr>\n",
       "    <tr>\n",
       "      <th>1</th>\n",
       "      <td>MAG001</td>\n",
       "      <td>2021-08-20 08:24:40.097</td>\n",
       "      <td>4.5</td>\n",
       "      <td>1</td>\n",
       "      <td>1186</td>\n",
       "      <td>163828</td>\n",
       "      <td>nickchamb@nickchamb</td>\n",
       "      <td>Bandon, Ireland</td>\n",
       "      <td>7</td>\n",
       "      <td>Couples</td>\n",
       "      <td>2021-08-17</td>\n",
       "      <td>2021-03-01</td>\n",
       "      <td>5</td>\n",
       "      <td>en</td>\n",
       "      <td>A really interesting and beautiful place to vi...</td>\n",
       "      <td>IE</td>\n",
       "    </tr>\n",
       "    <tr>\n",
       "      <th>2</th>\n",
       "      <td>MAG001</td>\n",
       "      <td>2021-08-20 08:24:40.117</td>\n",
       "      <td>4.5</td>\n",
       "      <td>1</td>\n",
       "      <td>1186</td>\n",
       "      <td>163828</td>\n",
       "      <td>Arthur Villon@arthur4588</td>\n",
       "      <td>Valencia, Spain</td>\n",
       "      <td>268</td>\n",
       "      <td>Friends</td>\n",
       "      <td>2021-08-16</td>\n",
       "      <td>2021-08-01</td>\n",
       "      <td>5</td>\n",
       "      <td>en</td>\n",
       "      <td>Beautiful place and must visit place in barcel...</td>\n",
       "      <td>ES</td>\n",
       "    </tr>\n",
       "    <tr>\n",
       "      <th>3</th>\n",
       "      <td>MAG001</td>\n",
       "      <td>2021-08-20 08:24:40.147</td>\n",
       "      <td>4.5</td>\n",
       "      <td>1</td>\n",
       "      <td>1186</td>\n",
       "      <td>163828</td>\n",
       "      <td>James U@696jamesu</td>\n",
       "      <td>NaN</td>\n",
       "      <td>7</td>\n",
       "      <td>NaN</td>\n",
       "      <td>2021-08-16</td>\n",
       "      <td>2021-07-01</td>\n",
       "      <td>5</td>\n",
       "      <td>en</td>\n",
       "      <td>A MUST when visiting Barcelkona.  It is consta...</td>\n",
       "      <td>None</td>\n",
       "    </tr>\n",
       "  </tbody>\n",
       "</table>\n",
       "</div>"
      ],
      "text/plain": [
       "  localID          extractionDate  globalRating  positionOnRanking  \\\n",
       "0  MAG001 2021-08-20 08:24:40.077           4.5                  1   \n",
       "1  MAG001 2021-08-20 08:24:40.097           4.5                  1   \n",
       "2  MAG001 2021-08-20 08:24:40.117           4.5                  1   \n",
       "3  MAG001 2021-08-20 08:24:40.147           4.5                  1   \n",
       "\n",
       "   sitesOnRanking  totalReviews                  userName      userLocation  \\\n",
       "0            1186        163828     Maurice M@MauriceM171  Indianapolis, IN   \n",
       "1            1186        163828       nickchamb@nickchamb   Bandon, Ireland   \n",
       "2            1186        163828  Arthur Villon@arthur4588   Valencia, Spain   \n",
       "3            1186        163828         James U@696jamesu               NaN   \n",
       "\n",
       "   userContributions tripType reviewWritten reviewVisited  reviewRating  \\\n",
       "0                 29  Couples    2021-08-18    2021-08-01             5   \n",
       "1                  7  Couples    2021-08-17    2021-03-01             5   \n",
       "2                268  Friends    2021-08-16    2021-08-01             5   \n",
       "3                  7      NaN    2021-08-16    2021-07-01             5   \n",
       "\n",
       "  reviewLanguage                                     reviewFullText  \\\n",
       "0             en  Absolutely breathtaking use of light, an amazi...   \n",
       "1             en  A really interesting and beautiful place to vi...   \n",
       "2             en  Beautiful place and must visit place in barcel...   \n",
       "3             en  A MUST when visiting Barcelkona.  It is consta...   \n",
       "\n",
       "  userISOCode  \n",
       "0          US  \n",
       "1          IE  \n",
       "2          ES  \n",
       "3        None  "
      ]
     },
     "execution_count": 26,
     "metadata": {},
     "output_type": "execute_result"
    }
   ],
   "source": [
    "reviews.head(4)"
   ]
  },
  {
   "cell_type": "code",
   "execution_count": 27,
   "id": "d1fa3e31-62ec-44fb-973a-173c2a1c847f",
   "metadata": {
    "tags": []
   },
   "outputs": [
    {
     "name": "stdout",
     "output_type": "stream",
     "text": [
      "Number of rows with information in 'userLocation' and NaN in 'userISOCode': 14\n"
     ]
    }
   ],
   "source": [
    "# Count rows where 'userLocation' is not NaN, but 'userISOCode' is NaN\n",
    "count_info_and_nan = (reviews['userLocation'].notna() & reviews['userISOCode'].isna()).sum()\n",
    "\n",
    "print(f\"Number of rows with information in 'userLocation' and NaN in 'userISOCode': {count_info_and_nan}\")"
   ]
  },
  {
   "cell_type": "code",
   "execution_count": 28,
   "id": "3ac2ee46-8aaf-4482-8573-c89a9c60520f",
   "metadata": {
    "tags": []
   },
   "outputs": [
    {
     "name": "stdout",
     "output_type": "stream",
     "text": [
      "                 userLocation userISOCode\n",
      "5284   Katima Mulilo, Namibia         NaN\n",
      "7918      Walvis Bay, Namibia         NaN\n",
      "8060        Windhoek, Namibia         NaN\n",
      "10069  Katima Mulilo, Namibia         NaN\n",
      "11016     Walvis Bay, Namibia         NaN\n",
      "11026     Walvis Bay, Namibia         NaN\n",
      "13460       Windhoek, Namibia         NaN\n",
      "17921  Katima Mulilo, Namibia         NaN\n",
      "18437       Windhoek, Namibia         NaN\n",
      "49573       Windhoek, Namibia         NaN\n",
      "58264     Walvis Bay, Namibia         NaN\n",
      "77283     Walvis Bay, Namibia         NaN\n",
      "81757     Walvis Bay, Namibia         NaN\n",
      "90565     Walvis Bay, Namibia         NaN\n"
     ]
    }
   ],
   "source": [
    "print(reviews.loc[reviews['userLocation'].notna() & reviews['userISOCode'].isna(), ['userLocation', 'userISOCode']])"
   ]
  },
  {
   "cell_type": "markdown",
   "id": "e7edf7c8-c0d8-40d5-8943-da40464c1bf7",
   "metadata": {},
   "source": [
    "##### namibia tem iso code 'NA' por isso esta a ficar NaN"
   ]
  },
  {
   "cell_type": "code",
   "execution_count": 29,
   "id": "cb70d353-7f29-4bb6-a961-fa12f328f96c",
   "metadata": {
    "tags": []
   },
   "outputs": [],
   "source": [
    "locations_to_correct = ['Katima Mulilo, Namibia', 'Walvis Bay, Namibia', 'Windhoek, Namibia']\n",
    "reviews.loc[reviews['userLocation'].isin(locations_to_correct), 'userISOCode'] = 'NA'"
   ]
  },
  {
   "cell_type": "code",
   "execution_count": 30,
   "id": "54e8f437-837b-4985-a51d-e076ea3e710a",
   "metadata": {
    "tags": []
   },
   "outputs": [
    {
     "name": "stdout",
     "output_type": "stream",
     "text": [
      "Number of rows with information in 'userLocation' and NaN in 'userISOCode': 0\n"
     ]
    }
   ],
   "source": [
    "count_info_and_nan = (reviews['userLocation'].notna() & reviews['userISOCode'].isna()).sum()\n",
    "print(f\"Number of rows with information in 'userLocation' and NaN in 'userISOCode': {count_info_and_nan}\")"
   ]
  },
  {
   "cell_type": "markdown",
   "id": "225d13d8-8bc8-42a7-80cd-e864d2f5115b",
   "metadata": {},
   "source": [
    "### - 'reviewWritten' &\t'reviewVisited' cleaning"
   ]
  },
  {
   "cell_type": "code",
   "execution_count": 31,
   "id": "46f025bd-f989-4b4f-a079-2ba071c11ae6",
   "metadata": {
    "tags": []
   },
   "outputs": [],
   "source": [
    "# Conversion of date columns to datetime, turning parsing errors into NaT\n",
    "reviews['reviewWritten'] = pd.to_datetime(reviews['reviewWritten'], errors='coerce')\n",
    "reviews['reviewVisited'] = pd.to_datetime(reviews['reviewVisited'], errors='coerce')\n",
    "reviews['extractionDate'] = pd.to_datetime(reviews['extractionDate'], errors='coerce')"
   ]
  },
  {
   "cell_type": "code",
   "execution_count": 32,
   "id": "3a6d7f43-740c-4cfe-8299-10c0be2f77f7",
   "metadata": {
    "tags": []
   },
   "outputs": [],
   "source": [
    "# Replace dates after extraction date with extraction date\n",
    "reviews['reviewWritten'] = np.where(reviews['reviewWritten'] > reviews['extractionDate'], reviews['extractionDate'], reviews['reviewWritten'])\n",
    "reviews['reviewVisited'] = np.where(reviews['reviewVisited'] > reviews['extractionDate'], reviews['extractionDate'], reviews['reviewVisited'])"
   ]
  },
  {
   "cell_type": "code",
   "execution_count": 33,
   "id": "31a5ac42-0404-49bb-af22-b3d82429a4e5",
   "metadata": {
    "tags": []
   },
   "outputs": [
    {
     "data": {
      "text/plain": [
       "22"
      ]
     },
     "execution_count": 33,
     "metadata": {},
     "output_type": "execute_result"
    }
   ],
   "source": [
    "# Check if any date in 'reviewVisited' is after 'reviewWritten'\n",
    "dates_switch = reviews['reviewVisited'] > reviews['reviewWritten']\n",
    "dates_switch.sum()"
   ]
  },
  {
   "cell_type": "code",
   "execution_count": 34,
   "id": "135910f2-41c4-4ceb-bbd3-9db2929d56a6",
   "metadata": {
    "tags": []
   },
   "outputs": [],
   "source": [
    "reviews.loc[reviews['reviewVisited'] > reviews['reviewWritten'], 'reviewVisited'] = reviews['reviewWritten']"
   ]
  },
  {
   "cell_type": "code",
   "execution_count": 35,
   "id": "6c581da2-758e-48f0-b59a-47d3e9ae9d98",
   "metadata": {
    "tags": []
   },
   "outputs": [
    {
     "data": {
      "text/plain": [
       "0"
      ]
     },
     "execution_count": 35,
     "metadata": {},
     "output_type": "execute_result"
    }
   ],
   "source": [
    "dates_switch = reviews['reviewVisited'] > reviews['reviewWritten']\n",
    "dates_switch.sum()"
   ]
  },
  {
   "cell_type": "code",
   "execution_count": 36,
   "id": "2be4f25f-dddb-48d7-b866-633e12a6d846",
   "metadata": {},
   "outputs": [],
   "source": [
    "# Fill NaN values in 'reviewVisited' with corresponding values from 'reviewWritten'\n",
    "reviews['reviewVisited'].fillna(reviews['reviewWritten'], inplace=True)"
   ]
  },
  {
   "cell_type": "markdown",
   "id": "5e8ccf35-bd22-4b1e-9b5c-81ef10c8d250",
   "metadata": {},
   "source": [
    "### - Remove Columns with no useful information"
   ]
  },
  {
   "cell_type": "code",
   "execution_count": 37,
   "id": "6f331091-c97a-4e55-8725-a73b555678c1",
   "metadata": {
    "tags": []
   },
   "outputs": [],
   "source": [
    "reviews.drop(['extractionDate', 'reviewLanguage', 'sitesOnRanking'], axis=1, inplace=True)"
   ]
  },
  {
   "cell_type": "code",
   "execution_count": 38,
   "id": "d3930f6d-9027-40ae-9ebb-b93a816a9ecc",
   "metadata": {
    "tags": []
   },
   "outputs": [
    {
     "data": {
      "text/html": [
       "<div>\n",
       "<style scoped>\n",
       "    .dataframe tbody tr th:only-of-type {\n",
       "        vertical-align: middle;\n",
       "    }\n",
       "\n",
       "    .dataframe tbody tr th {\n",
       "        vertical-align: top;\n",
       "    }\n",
       "\n",
       "    .dataframe thead th {\n",
       "        text-align: right;\n",
       "    }\n",
       "</style>\n",
       "<table border=\"1\" class=\"dataframe\">\n",
       "  <thead>\n",
       "    <tr style=\"text-align: right;\">\n",
       "      <th></th>\n",
       "      <th>localID</th>\n",
       "      <th>globalRating</th>\n",
       "      <th>positionOnRanking</th>\n",
       "      <th>totalReviews</th>\n",
       "      <th>userName</th>\n",
       "      <th>userLocation</th>\n",
       "      <th>userContributions</th>\n",
       "      <th>tripType</th>\n",
       "      <th>reviewWritten</th>\n",
       "      <th>reviewVisited</th>\n",
       "      <th>reviewRating</th>\n",
       "      <th>reviewFullText</th>\n",
       "      <th>userISOCode</th>\n",
       "    </tr>\n",
       "  </thead>\n",
       "  <tbody>\n",
       "    <tr>\n",
       "      <th>0</th>\n",
       "      <td>MAG001</td>\n",
       "      <td>4.5</td>\n",
       "      <td>1</td>\n",
       "      <td>163828</td>\n",
       "      <td>Maurice M@MauriceM171</td>\n",
       "      <td>Indianapolis, IN</td>\n",
       "      <td>29</td>\n",
       "      <td>Couples</td>\n",
       "      <td>2021-08-18</td>\n",
       "      <td>2021-08-01</td>\n",
       "      <td>5</td>\n",
       "      <td>Absolutely breathtaking use of light, an amazi...</td>\n",
       "      <td>US</td>\n",
       "    </tr>\n",
       "    <tr>\n",
       "      <th>1</th>\n",
       "      <td>MAG001</td>\n",
       "      <td>4.5</td>\n",
       "      <td>1</td>\n",
       "      <td>163828</td>\n",
       "      <td>nickchamb@nickchamb</td>\n",
       "      <td>Bandon, Ireland</td>\n",
       "      <td>7</td>\n",
       "      <td>Couples</td>\n",
       "      <td>2021-08-17</td>\n",
       "      <td>2021-03-01</td>\n",
       "      <td>5</td>\n",
       "      <td>A really interesting and beautiful place to vi...</td>\n",
       "      <td>IE</td>\n",
       "    </tr>\n",
       "    <tr>\n",
       "      <th>2</th>\n",
       "      <td>MAG001</td>\n",
       "      <td>4.5</td>\n",
       "      <td>1</td>\n",
       "      <td>163828</td>\n",
       "      <td>Arthur Villon@arthur4588</td>\n",
       "      <td>Valencia, Spain</td>\n",
       "      <td>268</td>\n",
       "      <td>Friends</td>\n",
       "      <td>2021-08-16</td>\n",
       "      <td>2021-08-01</td>\n",
       "      <td>5</td>\n",
       "      <td>Beautiful place and must visit place in barcel...</td>\n",
       "      <td>ES</td>\n",
       "    </tr>\n",
       "    <tr>\n",
       "      <th>3</th>\n",
       "      <td>MAG001</td>\n",
       "      <td>4.5</td>\n",
       "      <td>1</td>\n",
       "      <td>163828</td>\n",
       "      <td>James U@696jamesu</td>\n",
       "      <td>NaN</td>\n",
       "      <td>7</td>\n",
       "      <td>NaN</td>\n",
       "      <td>2021-08-16</td>\n",
       "      <td>2021-07-01</td>\n",
       "      <td>5</td>\n",
       "      <td>A MUST when visiting Barcelkona.  It is consta...</td>\n",
       "      <td>None</td>\n",
       "    </tr>\n",
       "    <tr>\n",
       "      <th>4</th>\n",
       "      <td>MAG001</td>\n",
       "      <td>4.5</td>\n",
       "      <td>1</td>\n",
       "      <td>163828</td>\n",
       "      <td>Kamal K Sirra@Sirra63</td>\n",
       "      <td>Madrid, Spain</td>\n",
       "      <td>516</td>\n",
       "      <td>Family</td>\n",
       "      <td>2021-08-15</td>\n",
       "      <td>2021-07-01</td>\n",
       "      <td>4</td>\n",
       "      <td>I visited about 20 years ago and there has bee...</td>\n",
       "      <td>ES</td>\n",
       "    </tr>\n",
       "  </tbody>\n",
       "</table>\n",
       "</div>"
      ],
      "text/plain": [
       "  localID  globalRating  positionOnRanking  totalReviews  \\\n",
       "0  MAG001           4.5                  1        163828   \n",
       "1  MAG001           4.5                  1        163828   \n",
       "2  MAG001           4.5                  1        163828   \n",
       "3  MAG001           4.5                  1        163828   \n",
       "4  MAG001           4.5                  1        163828   \n",
       "\n",
       "                   userName      userLocation  userContributions tripType  \\\n",
       "0     Maurice M@MauriceM171  Indianapolis, IN                 29  Couples   \n",
       "1       nickchamb@nickchamb   Bandon, Ireland                  7  Couples   \n",
       "2  Arthur Villon@arthur4588   Valencia, Spain                268  Friends   \n",
       "3         James U@696jamesu               NaN                  7      NaN   \n",
       "4     Kamal K Sirra@Sirra63     Madrid, Spain                516   Family   \n",
       "\n",
       "  reviewWritten reviewVisited  reviewRating  \\\n",
       "0    2021-08-18    2021-08-01             5   \n",
       "1    2021-08-17    2021-03-01             5   \n",
       "2    2021-08-16    2021-08-01             5   \n",
       "3    2021-08-16    2021-07-01             5   \n",
       "4    2021-08-15    2021-07-01             4   \n",
       "\n",
       "                                      reviewFullText userISOCode  \n",
       "0  Absolutely breathtaking use of light, an amazi...          US  \n",
       "1  A really interesting and beautiful place to vi...          IE  \n",
       "2  Beautiful place and must visit place in barcel...          ES  \n",
       "3  A MUST when visiting Barcelkona.  It is consta...        None  \n",
       "4  I visited about 20 years ago and there has bee...          ES  "
      ]
     },
     "execution_count": 38,
     "metadata": {},
     "output_type": "execute_result"
    }
   ],
   "source": [
    "reviews.head()"
   ]
  },
  {
   "cell_type": "markdown",
   "id": "5d57fcf2-8304-4ce8-ba2c-2f59c6a9fe75",
   "metadata": {},
   "source": [
    "### - reviewFullText cleaning\n",
    "\n",
    "We observed that the 'reviewFullText' column has 92,120 entries, but only 85,088 are unique. This difference could be from System glitches during data submission that could lead to duplicate entries, problems during data extraction process, or even Review Edits  captured during extraction. To investigate, we plan to check if these repetitions match the same user and ID. Identifying cases where entries share the same 'reviewFullText,' user, and ID will help understand if these are edited reviews."
   ]
  },
  {
   "cell_type": "code",
   "execution_count": 39,
   "id": "9fbc5d53-f0e0-4bc5-9394-3cc4fc3cc1c9",
   "metadata": {
    "tags": []
   },
   "outputs": [
    {
     "data": {
      "text/plain": [
       "7012"
      ]
     },
     "execution_count": 39,
     "metadata": {},
     "output_type": "execute_result"
    }
   ],
   "source": [
    "duplicates_excluding_column = reviews[reviews.duplicated()]\n",
    "duplicates_excluding_column.shape[0]"
   ]
  },
  {
   "cell_type": "markdown",
   "id": "cd4b8ef1-5f23-4658-b53f-dcf50e9d94bd",
   "metadata": {},
   "source": [
    "We are going to exclude the reviewWritten from this subsetting because if the same user wrote the same review text for the same attraction, which is visited on the same day, then the review duplicate could be an edited review (the user might have edited the reviewRating, the trip type, etc.). Therefore, we are going to assume that the most recent review is the correct one."
   ]
  },
  {
   "cell_type": "code",
   "execution_count": 40,
   "id": "bd8b3bc1-c9e8-4cbc-b61f-47f00e36561d",
   "metadata": {
    "tags": []
   },
   "outputs": [
    {
     "data": {
      "text/plain": [
       "7018"
      ]
     },
     "execution_count": 40,
     "metadata": {},
     "output_type": "execute_result"
    }
   ],
   "source": [
    "duplicates_excluding_columns = reviews[reviews.duplicated(subset=['userName', 'reviewFullText', 'localID', 'reviewVisited'])]\n",
    "duplicates_excluding_columns.shape[0]"
   ]
  },
  {
   "cell_type": "code",
   "execution_count": 41,
   "id": "7c2e2896-a888-4b0d-9b7c-630470601841",
   "metadata": {
    "tags": []
   },
   "outputs": [
    {
     "data": {
      "text/html": [
       "<div>\n",
       "<style scoped>\n",
       "    .dataframe tbody tr th:only-of-type {\n",
       "        vertical-align: middle;\n",
       "    }\n",
       "\n",
       "    .dataframe tbody tr th {\n",
       "        vertical-align: top;\n",
       "    }\n",
       "\n",
       "    .dataframe thead th {\n",
       "        text-align: right;\n",
       "    }\n",
       "</style>\n",
       "<table border=\"1\" class=\"dataframe\">\n",
       "  <thead>\n",
       "    <tr style=\"text-align: right;\">\n",
       "      <th></th>\n",
       "      <th>localID</th>\n",
       "      <th>globalRating</th>\n",
       "      <th>positionOnRanking</th>\n",
       "      <th>totalReviews</th>\n",
       "      <th>userName</th>\n",
       "      <th>userLocation</th>\n",
       "      <th>userContributions</th>\n",
       "      <th>tripType</th>\n",
       "      <th>reviewWritten</th>\n",
       "      <th>reviewVisited</th>\n",
       "      <th>reviewRating</th>\n",
       "      <th>reviewFullText</th>\n",
       "      <th>userISOCode</th>\n",
       "    </tr>\n",
       "  </thead>\n",
       "  <tbody>\n",
       "    <tr>\n",
       "      <th>57356</th>\n",
       "      <td>MAG030</td>\n",
       "      <td>4.5</td>\n",
       "      <td>2</td>\n",
       "      <td>18474</td>\n",
       "      <td>GlobeTrotting828238@GlobeTrotting828238</td>\n",
       "      <td>NaN</td>\n",
       "      <td>4</td>\n",
       "      <td>NaN</td>\n",
       "      <td>2019-09-08</td>\n",
       "      <td>2019-08-01</td>\n",
       "      <td>5</td>\n",
       "      <td>able to attend a concert  the flamenco dance...</td>\n",
       "      <td>None</td>\n",
       "    </tr>\n",
       "    <tr>\n",
       "      <th>57346</th>\n",
       "      <td>MAG030</td>\n",
       "      <td>4.5</td>\n",
       "      <td>2</td>\n",
       "      <td>18474</td>\n",
       "      <td>GlobeTrotting828238@GlobeTrotting828238</td>\n",
       "      <td>NaN</td>\n",
       "      <td>4</td>\n",
       "      <td>NaN</td>\n",
       "      <td>2019-09-08</td>\n",
       "      <td>2019-08-01</td>\n",
       "      <td>5</td>\n",
       "      <td>able to attend a concert  the flamenco dance...</td>\n",
       "      <td>None</td>\n",
       "    </tr>\n",
       "  </tbody>\n",
       "</table>\n",
       "</div>"
      ],
      "text/plain": [
       "      localID  globalRating  positionOnRanking  totalReviews  \\\n",
       "57356  MAG030           4.5                  2         18474   \n",
       "57346  MAG030           4.5                  2         18474   \n",
       "\n",
       "                                      userName userLocation  \\\n",
       "57356  GlobeTrotting828238@GlobeTrotting828238          NaN   \n",
       "57346  GlobeTrotting828238@GlobeTrotting828238          NaN   \n",
       "\n",
       "       userContributions tripType reviewWritten reviewVisited  reviewRating  \\\n",
       "57356                  4      NaN    2019-09-08    2019-08-01             5   \n",
       "57346                  4      NaN    2019-09-08    2019-08-01             5   \n",
       "\n",
       "                                          reviewFullText userISOCode  \n",
       "57356    able to attend a concert  the flamenco dance...        None  \n",
       "57346    able to attend a concert  the flamenco dance...        None  "
      ]
     },
     "execution_count": 41,
     "metadata": {},
     "output_type": "execute_result"
    }
   ],
   "source": [
    "reviews[reviews.duplicated(subset=['userName', 'reviewFullText', 'localID', 'reviewVisited'], keep=False)].sort_values(by=['reviewFullText']).head(2)"
   ]
  },
  {
   "cell_type": "code",
   "execution_count": 42,
   "id": "28e04bfb-3721-4283-bf54-be5659437bd1",
   "metadata": {
    "tags": []
   },
   "outputs": [],
   "source": [
    "reviews['reviewWritten'] = pd.to_datetime(reviews['reviewWritten'], errors='coerce')\n",
    "reviews = reviews.sort_values(by=['userName', 'reviewWritten'], ascending=[True, False])\n",
    "reviews.drop_duplicates(subset=['userName', 'reviewFullText', 'localID', 'reviewVisited'], keep='first', inplace=True)\n",
    "reviews.reset_index(drop=True, inplace=True)"
   ]
  },
  {
   "cell_type": "markdown",
   "id": "12802238-fa16-4a84-8ba5-798ffc7e6a8a",
   "metadata": {},
   "source": [
    "Also, we notice that when the text reviews are too long and pass to another line so we need to agg the rows:"
   ]
  },
  {
   "cell_type": "code",
   "execution_count": 43,
   "id": "208fda8b-4f62-4d37-ac82-0c63a7ca4cc7",
   "metadata": {
    "tags": []
   },
   "outputs": [
    {
     "data": {
      "text/plain": [
       "193"
      ]
     },
     "execution_count": 43,
     "metadata": {},
     "output_type": "execute_result"
    }
   ],
   "source": [
    "reviews.duplicated(subset=['userName', 'reviewRating', 'localID', 'reviewVisited']).sum()"
   ]
  },
  {
   "cell_type": "code",
   "execution_count": 44,
   "id": "0bba2b5d-9741-4f08-a160-1c4065e3745a",
   "metadata": {
    "tags": []
   },
   "outputs": [
    {
     "data": {
      "text/html": [
       "<div>\n",
       "<style scoped>\n",
       "    .dataframe tbody tr th:only-of-type {\n",
       "        vertical-align: middle;\n",
       "    }\n",
       "\n",
       "    .dataframe tbody tr th {\n",
       "        vertical-align: top;\n",
       "    }\n",
       "\n",
       "    .dataframe thead th {\n",
       "        text-align: right;\n",
       "    }\n",
       "</style>\n",
       "<table border=\"1\" class=\"dataframe\">\n",
       "  <thead>\n",
       "    <tr style=\"text-align: right;\">\n",
       "      <th></th>\n",
       "      <th>localID</th>\n",
       "      <th>globalRating</th>\n",
       "      <th>positionOnRanking</th>\n",
       "      <th>totalReviews</th>\n",
       "      <th>userName</th>\n",
       "      <th>userLocation</th>\n",
       "      <th>userContributions</th>\n",
       "      <th>tripType</th>\n",
       "      <th>reviewWritten</th>\n",
       "      <th>reviewVisited</th>\n",
       "      <th>reviewRating</th>\n",
       "      <th>reviewFullText</th>\n",
       "      <th>userISOCode</th>\n",
       "    </tr>\n",
       "  </thead>\n",
       "  <tbody>\n",
       "    <tr>\n",
       "      <th>398</th>\n",
       "      <td>MAG069</td>\n",
       "      <td>4.5</td>\n",
       "      <td>2</td>\n",
       "      <td>8582</td>\n",
       "      <td>21cyndyc@21cyndyc</td>\n",
       "      <td>Holyhead, UK</td>\n",
       "      <td>263</td>\n",
       "      <td>NaN</td>\n",
       "      <td>2019-06-10</td>\n",
       "      <td>2019-06-01</td>\n",
       "      <td>5</td>\n",
       "      <td>So breathtakingly beautiful whatever time of t...</td>\n",
       "      <td>GB</td>\n",
       "    </tr>\n",
       "    <tr>\n",
       "      <th>399</th>\n",
       "      <td>MAG069</td>\n",
       "      <td>4.5</td>\n",
       "      <td>2</td>\n",
       "      <td>8582</td>\n",
       "      <td>21cyndyc@21cyndyc</td>\n",
       "      <td>Holyhead, UK</td>\n",
       "      <td>263</td>\n",
       "      <td>Friends</td>\n",
       "      <td>2019-06-10</td>\n",
       "      <td>2019-06-01</td>\n",
       "      <td>5</td>\n",
       "      <td>Kew is beyond description. Any time of year is...</td>\n",
       "      <td>GB</td>\n",
       "    </tr>\n",
       "  </tbody>\n",
       "</table>\n",
       "</div>"
      ],
      "text/plain": [
       "    localID  globalRating  positionOnRanking  totalReviews           userName  \\\n",
       "398  MAG069           4.5                  2          8582  21cyndyc@21cyndyc   \n",
       "399  MAG069           4.5                  2          8582  21cyndyc@21cyndyc   \n",
       "\n",
       "     userLocation  userContributions tripType reviewWritten reviewVisited  \\\n",
       "398  Holyhead, UK                263      NaN    2019-06-10    2019-06-01   \n",
       "399  Holyhead, UK                263  Friends    2019-06-10    2019-06-01   \n",
       "\n",
       "     reviewRating                                     reviewFullText  \\\n",
       "398             5  So breathtakingly beautiful whatever time of t...   \n",
       "399             5  Kew is beyond description. Any time of year is...   \n",
       "\n",
       "    userISOCode  \n",
       "398          GB  \n",
       "399          GB  "
      ]
     },
     "execution_count": 44,
     "metadata": {},
     "output_type": "execute_result"
    }
   ],
   "source": [
    "reviews[reviews.duplicated(subset=['userName', 'reviewRating', 'localID', 'reviewVisited'], keep=False)].sort_values(by=['userName']).head(2)"
   ]
  },
  {
   "cell_type": "code",
   "execution_count": 45,
   "id": "fe087919-ec73-43d3-bc17-2700cc742c25",
   "metadata": {
    "tags": []
   },
   "outputs": [],
   "source": [
    "# Create a merge column\n",
    "reviews['merge_column'] = (\n",
    "    reviews['userName'].astype(str) +\n",
    "    reviews['reviewRating'].astype(str) +\n",
    "    reviews['localID'].astype(str) +\n",
    "    reviews['reviewVisited'].astype(str)\n",
    ")\n",
    "\n",
    "# Aggregate based on the merge column and concatenate 'reviewFullText'\n",
    "reviews_aggregated = reviews.groupby('merge_column', as_index=False).agg({\n",
    "    'tripType': 'last',\n",
    "    'userLocation': 'last',\n",
    "    'userISOCode': 'last',\n",
    "    'reviewWritten': 'max',  # Keeping the most recent date\n",
    "    'reviewFullText': lambda x: ' '.join(map(str, x))  # Convert values to strings before joining\n",
    "})\n",
    "\n",
    "# Merge the aggregated values back into the original DataFrame\n",
    "reviews = pd.merge(reviews, reviews_aggregated, on='merge_column', how='left', suffixes=('', '_agg'))\n",
    "\n",
    "# Keep the non-NaN values or the last value if both are NaN\n",
    "reviews['tripType'] = reviews.apply(lambda row: row['tripType_agg'] if pd.notna(row['tripType_agg']) else row['tripType'], axis=1)\n",
    "reviews['userLocation'] = reviews.apply(lambda row: row['userLocation_agg'] if pd.notna(row['userLocation_agg']) else row['userLocation'], axis=1)\n",
    "reviews['userISOCode'] = reviews.apply(lambda row: row['userISOCode_agg'] if pd.notna(row['userISOCode_agg']) else row['userISOCode'], axis=1)\n",
    "\n",
    "reviews = reviews.drop(['merge_column', 'tripType_agg', 'userLocation_agg', 'userISOCode_agg', 'reviewWritten_agg'], axis=1)\n",
    "reviews.reset_index(drop=True, inplace=True)"
   ]
  },
  {
   "cell_type": "markdown",
   "id": "3729c586-4e2e-4799-9304-31c8c4da9d50",
   "metadata": {},
   "source": [
    "We are presenting data for the same user to illustrate a noteworthy observation. Firstly, the reviewFullText_agg field now consolidates the content from both reviews. Secondly, to mitigate the risk of data loss in other columns – exemplified in this user's case where one review specifies the tripType and the other does not – a approach is employed. The methodology ensures that during aggregation, if a column contains information, it takes precedence, thereby preserving valuable data and preventing unintended loss in scenarios where individual reviews contribute distinct details to shared columns."
   ]
  },
  {
   "cell_type": "code",
   "execution_count": 46,
   "id": "47e128e3-3492-4aba-8064-b06058270dd6",
   "metadata": {
    "tags": []
   },
   "outputs": [
    {
     "data": {
      "text/html": [
       "<div>\n",
       "<style scoped>\n",
       "    .dataframe tbody tr th:only-of-type {\n",
       "        vertical-align: middle;\n",
       "    }\n",
       "\n",
       "    .dataframe tbody tr th {\n",
       "        vertical-align: top;\n",
       "    }\n",
       "\n",
       "    .dataframe thead th {\n",
       "        text-align: right;\n",
       "    }\n",
       "</style>\n",
       "<table border=\"1\" class=\"dataframe\">\n",
       "  <thead>\n",
       "    <tr style=\"text-align: right;\">\n",
       "      <th></th>\n",
       "      <th>reviewFullText</th>\n",
       "      <th>reviewFullText_agg</th>\n",
       "      <th>userName</th>\n",
       "      <th>localID</th>\n",
       "      <th>tripType</th>\n",
       "    </tr>\n",
       "  </thead>\n",
       "  <tbody>\n",
       "    <tr>\n",
       "      <th>398</th>\n",
       "      <td>So breathtakingly beautiful whatever time of the year you visit. Especially great just now because of all the wonderful glass sculptures dotted around the gardens at present.</td>\n",
       "      <td>So breathtakingly beautiful whatever time of the year you visit. Especially great just now because of all the wonderful glass sculptures dotted around the gardens at present. Kew is beyond description. Any time of year is the best time. As it was a little wet we took the train around some of the gardens. Oh boy, it's breath taking. The trees are a true wonder, as are the floral displays. The glass houses are indescribable in words that do them any justice. Add an extra treat to the day and return to the city on a boat on the Thames!</td>\n",
       "      <td>21cyndyc@21cyndyc</td>\n",
       "      <td>MAG069</td>\n",
       "      <td>Friends</td>\n",
       "    </tr>\n",
       "    <tr>\n",
       "      <th>399</th>\n",
       "      <td>Kew is beyond description. Any time of year is the best time. As it was a little wet we took the train around some of the gardens. Oh boy, it's breath taking. The trees are a true wonder, as are the floral displays. The glass houses are indescribable in words that do them any justice. Add an extra treat to the day and return to the city on a boat on the Thames!</td>\n",
       "      <td>So breathtakingly beautiful whatever time of the year you visit. Especially great just now because of all the wonderful glass sculptures dotted around the gardens at present. Kew is beyond description. Any time of year is the best time. As it was a little wet we took the train around some of the gardens. Oh boy, it's breath taking. The trees are a true wonder, as are the floral displays. The glass houses are indescribable in words that do them any justice. Add an extra treat to the day and return to the city on a boat on the Thames!</td>\n",
       "      <td>21cyndyc@21cyndyc</td>\n",
       "      <td>MAG069</td>\n",
       "      <td>Friends</td>\n",
       "    </tr>\n",
       "  </tbody>\n",
       "</table>\n",
       "</div>"
      ],
      "text/plain": [
       "                                                                                                                                                                                                                                                                                                                                                                  reviewFullText  \\\n",
       "398                                                                                                                                                                                               So breathtakingly beautiful whatever time of the year you visit. Especially great just now because of all the wonderful glass sculptures dotted around the gardens at present.   \n",
       "399  Kew is beyond description. Any time of year is the best time. As it was a little wet we took the train around some of the gardens. Oh boy, it's breath taking. The trees are a true wonder, as are the floral displays. The glass houses are indescribable in words that do them any justice. Add an extra treat to the day and return to the city on a boat on the Thames!   \n",
       "\n",
       "                                                                                                                                                                                                                                                                                                                                                                                                                                                                                                                                             reviewFullText_agg  \\\n",
       "398  So breathtakingly beautiful whatever time of the year you visit. Especially great just now because of all the wonderful glass sculptures dotted around the gardens at present. Kew is beyond description. Any time of year is the best time. As it was a little wet we took the train around some of the gardens. Oh boy, it's breath taking. The trees are a true wonder, as are the floral displays. The glass houses are indescribable in words that do them any justice. Add an extra treat to the day and return to the city on a boat on the Thames!   \n",
       "399  So breathtakingly beautiful whatever time of the year you visit. Especially great just now because of all the wonderful glass sculptures dotted around the gardens at present. Kew is beyond description. Any time of year is the best time. As it was a little wet we took the train around some of the gardens. Oh boy, it's breath taking. The trees are a true wonder, as are the floral displays. The glass houses are indescribable in words that do them any justice. Add an extra treat to the day and return to the city on a boat on the Thames!   \n",
       "\n",
       "              userName localID tripType  \n",
       "398  21cyndyc@21cyndyc  MAG069  Friends  \n",
       "399  21cyndyc@21cyndyc  MAG069  Friends  "
      ]
     },
     "execution_count": 46,
     "metadata": {},
     "output_type": "execute_result"
    }
   ],
   "source": [
    "pd.set_option('display.max_colwidth', None)  \n",
    "reviews.loc[(reviews['userName'] == '21cyndyc@21cyndyc') & (reviews['localID'] == 'MAG069'), ['reviewFullText', 'reviewFullText_agg', 'userName', 'localID', 'tripType']]"
   ]
  },
  {
   "cell_type": "code",
   "execution_count": 47,
   "id": "427e1ca6-0c60-4f08-8fc8-d5614ba137ad",
   "metadata": {
    "tags": []
   },
   "outputs": [],
   "source": [
    "pd.reset_option('display.max_colwidth') "
   ]
  },
  {
   "cell_type": "code",
   "execution_count": 48,
   "id": "071f434d-1a68-4d4b-811e-281cd50f6f31",
   "metadata": {
    "tags": []
   },
   "outputs": [
    {
     "data": {
      "text/html": [
       "<div>\n",
       "<style scoped>\n",
       "    .dataframe tbody tr th:only-of-type {\n",
       "        vertical-align: middle;\n",
       "    }\n",
       "\n",
       "    .dataframe tbody tr th {\n",
       "        vertical-align: top;\n",
       "    }\n",
       "\n",
       "    .dataframe thead th {\n",
       "        text-align: right;\n",
       "    }\n",
       "</style>\n",
       "<table border=\"1\" class=\"dataframe\">\n",
       "  <thead>\n",
       "    <tr style=\"text-align: right;\">\n",
       "      <th></th>\n",
       "      <th>localID</th>\n",
       "      <th>globalRating</th>\n",
       "      <th>positionOnRanking</th>\n",
       "      <th>totalReviews</th>\n",
       "      <th>userName</th>\n",
       "      <th>userLocation</th>\n",
       "      <th>userContributions</th>\n",
       "      <th>tripType</th>\n",
       "      <th>reviewWritten</th>\n",
       "      <th>reviewVisited</th>\n",
       "      <th>reviewRating</th>\n",
       "      <th>reviewFullText</th>\n",
       "      <th>userISOCode</th>\n",
       "      <th>reviewFullText_agg</th>\n",
       "    </tr>\n",
       "  </thead>\n",
       "  <tbody>\n",
       "  </tbody>\n",
       "</table>\n",
       "</div>"
      ],
      "text/plain": [
       "Empty DataFrame\n",
       "Columns: [localID, globalRating, positionOnRanking, totalReviews, userName, userLocation, userContributions, tripType, reviewWritten, reviewVisited, reviewRating, reviewFullText, userISOCode, reviewFullText_agg]\n",
       "Index: []"
      ]
     },
     "execution_count": 48,
     "metadata": {},
     "output_type": "execute_result"
    }
   ],
   "source": [
    "reviews[(reviews['reviewWritten'].isnull()) | (reviews['reviewFullText_agg'].isnull())]"
   ]
  },
  {
   "cell_type": "code",
   "execution_count": 49,
   "id": "9de3491e-fe3d-4e4d-9ea3-d892bb1f9eb1",
   "metadata": {
    "tags": []
   },
   "outputs": [],
   "source": [
    "reviews['reviewWritten'] = pd.to_datetime(reviews['reviewWritten'], errors='coerce')\n",
    "reviews = reviews.sort_values(by=['userName', 'reviewWritten'], ascending=[True, False])\n",
    "\n",
    "# Drop duplicates based on specified columns and keep the row with the most recent 'reviewWritten'\n",
    "reviews.drop_duplicates(subset=['userName', 'reviewFullText_agg', 'localID', 'reviewVisited', 'reviewRating'], inplace=True)\n",
    "reviews.reset_index(drop=True, inplace=True)"
   ]
  },
  {
   "cell_type": "code",
   "execution_count": 50,
   "id": "e03b9e74-a6fc-46b9-9e2b-6bc8d7e2a689",
   "metadata": {
    "tags": []
   },
   "outputs": [],
   "source": [
    "reviews.drop('reviewFullText', axis=1, inplace=True)"
   ]
  },
  {
   "cell_type": "code",
   "execution_count": 51,
   "id": "f62a7732-db99-4289-b787-ad06e4e67075",
   "metadata": {
    "tags": []
   },
   "outputs": [
    {
     "data": {
      "text/html": [
       "<div>\n",
       "<style scoped>\n",
       "    .dataframe tbody tr th:only-of-type {\n",
       "        vertical-align: middle;\n",
       "    }\n",
       "\n",
       "    .dataframe tbody tr th {\n",
       "        vertical-align: top;\n",
       "    }\n",
       "\n",
       "    .dataframe thead th {\n",
       "        text-align: right;\n",
       "    }\n",
       "</style>\n",
       "<table border=\"1\" class=\"dataframe\">\n",
       "  <thead>\n",
       "    <tr style=\"text-align: right;\">\n",
       "      <th></th>\n",
       "      <th>localID</th>\n",
       "      <th>globalRating</th>\n",
       "      <th>positionOnRanking</th>\n",
       "      <th>totalReviews</th>\n",
       "      <th>userName</th>\n",
       "      <th>userLocation</th>\n",
       "      <th>userContributions</th>\n",
       "      <th>tripType</th>\n",
       "      <th>reviewWritten</th>\n",
       "      <th>reviewVisited</th>\n",
       "      <th>reviewRating</th>\n",
       "      <th>userISOCode</th>\n",
       "      <th>reviewFullText_agg</th>\n",
       "    </tr>\n",
       "  </thead>\n",
       "  <tbody>\n",
       "    <tr>\n",
       "      <th>398</th>\n",
       "      <td>MAG069</td>\n",
       "      <td>4.5</td>\n",
       "      <td>2</td>\n",
       "      <td>8582</td>\n",
       "      <td>21cyndyc@21cyndyc</td>\n",
       "      <td>Holyhead, UK</td>\n",
       "      <td>263</td>\n",
       "      <td>Friends</td>\n",
       "      <td>2019-06-10</td>\n",
       "      <td>2019-06-01</td>\n",
       "      <td>5</td>\n",
       "      <td>GB</td>\n",
       "      <td>So breathtakingly beautiful whatever time of t...</td>\n",
       "    </tr>\n",
       "  </tbody>\n",
       "</table>\n",
       "</div>"
      ],
      "text/plain": [
       "    localID  globalRating  positionOnRanking  totalReviews           userName  \\\n",
       "398  MAG069           4.5                  2          8582  21cyndyc@21cyndyc   \n",
       "\n",
       "     userLocation  userContributions tripType reviewWritten reviewVisited  \\\n",
       "398  Holyhead, UK                263  Friends    2019-06-10    2019-06-01   \n",
       "\n",
       "     reviewRating userISOCode  \\\n",
       "398             5          GB   \n",
       "\n",
       "                                    reviewFullText_agg  \n",
       "398  So breathtakingly beautiful whatever time of t...  "
      ]
     },
     "execution_count": 51,
     "metadata": {},
     "output_type": "execute_result"
    }
   ],
   "source": [
    "reviews.loc[(reviews['userName'] == '21cyndyc@21cyndyc') & (reviews['localID'] == 'MAG069')]"
   ]
  },
  {
   "cell_type": "code",
   "execution_count": 52,
   "id": "a619e8b3-f1fc-4633-a44e-167fba3ff6eb",
   "metadata": {
    "tags": []
   },
   "outputs": [
    {
     "data": {
      "text/plain": [
       "(84909, 13)"
      ]
     },
     "execution_count": 52,
     "metadata": {},
     "output_type": "execute_result"
    }
   ],
   "source": [
    "reviews.shape"
   ]
  },
  {
   "cell_type": "markdown",
   "id": "97f022f1-ab04-4964-8b5b-258d0bfe71a3",
   "metadata": {},
   "source": [
    " 92 120 - 7018 - 193 = 84 909"
   ]
  },
  {
   "cell_type": "code",
   "execution_count": 53,
   "id": "3328af97-f9ae-461d-b4dd-0aad8a4106e8",
   "metadata": {
    "tags": []
   },
   "outputs": [
    {
     "data": {
      "text/plain": [
       "0"
      ]
     },
     "execution_count": 53,
     "metadata": {},
     "output_type": "execute_result"
    }
   ],
   "source": [
    "duplicates_excluding_column = reviews[reviews.duplicated()]\n",
    "duplicates_excluding_column.shape[0]"
   ]
  },
  {
   "cell_type": "code",
   "execution_count": 54,
   "id": "faeada95-ebb2-4b20-a1ad-14146fd3d78d",
   "metadata": {
    "tags": []
   },
   "outputs": [
    {
     "data": {
      "text/html": [
       "<div>\n",
       "<style scoped>\n",
       "    .dataframe tbody tr th:only-of-type {\n",
       "        vertical-align: middle;\n",
       "    }\n",
       "\n",
       "    .dataframe tbody tr th {\n",
       "        vertical-align: top;\n",
       "    }\n",
       "\n",
       "    .dataframe thead th {\n",
       "        text-align: right;\n",
       "    }\n",
       "</style>\n",
       "<table border=\"1\" class=\"dataframe\">\n",
       "  <thead>\n",
       "    <tr style=\"text-align: right;\">\n",
       "      <th></th>\n",
       "      <th>localID</th>\n",
       "      <th>globalRating</th>\n",
       "      <th>positionOnRanking</th>\n",
       "      <th>totalReviews</th>\n",
       "      <th>userName</th>\n",
       "      <th>userLocation</th>\n",
       "      <th>userContributions</th>\n",
       "      <th>tripType</th>\n",
       "      <th>reviewWritten</th>\n",
       "      <th>reviewVisited</th>\n",
       "      <th>reviewRating</th>\n",
       "      <th>userISOCode</th>\n",
       "      <th>reviewFullText_agg</th>\n",
       "    </tr>\n",
       "  </thead>\n",
       "  <tbody>\n",
       "    <tr>\n",
       "      <th>80732</th>\n",
       "      <td>MAG048</td>\n",
       "      <td>4.5</td>\n",
       "      <td>1</td>\n",
       "      <td>12696</td>\n",
       "      <td>ruthboldes@ruthboldes</td>\n",
       "      <td>Mevaseret Zion, Israel</td>\n",
       "      <td>10</td>\n",
       "      <td>Couples</td>\n",
       "      <td>2019-09-14</td>\n",
       "      <td>2019-09-01</td>\n",
       "      <td>5</td>\n",
       "      <td>IL</td>\n",
       "      <td>A must-see place for any traveler in St. Peter...</td>\n",
       "    </tr>\n",
       "    <tr>\n",
       "      <th>80730</th>\n",
       "      <td>MAG016</td>\n",
       "      <td>4.5</td>\n",
       "      <td>3</td>\n",
       "      <td>26604</td>\n",
       "      <td>ruthboldes@ruthboldes</td>\n",
       "      <td>Mevaseret Zion, Israel</td>\n",
       "      <td>10</td>\n",
       "      <td>Couples</td>\n",
       "      <td>2019-09-14</td>\n",
       "      <td>2019-09-01</td>\n",
       "      <td>5</td>\n",
       "      <td>IL</td>\n",
       "      <td>A must-see place for any traveler in St. Peter...</td>\n",
       "    </tr>\n",
       "    <tr>\n",
       "      <th>80731</th>\n",
       "      <td>MAG027</td>\n",
       "      <td>5.0</td>\n",
       "      <td>1</td>\n",
       "      <td>21630</td>\n",
       "      <td>ruthboldes@ruthboldes</td>\n",
       "      <td>Mevaseret Zion, Israel</td>\n",
       "      <td>10</td>\n",
       "      <td>Couples</td>\n",
       "      <td>2019-09-14</td>\n",
       "      <td>2019-09-01</td>\n",
       "      <td>5</td>\n",
       "      <td>IL</td>\n",
       "      <td>A must-see place for any traveler in St. Peter...</td>\n",
       "    </tr>\n",
       "    <tr>\n",
       "      <th>8444</th>\n",
       "      <td>MAG002</td>\n",
       "      <td>4.0</td>\n",
       "      <td>11</td>\n",
       "      <td>75909</td>\n",
       "      <td>Bluebonet@Bluebonet</td>\n",
       "      <td>Houston, TX</td>\n",
       "      <td>176</td>\n",
       "      <td>Couples</td>\n",
       "      <td>2019-06-23</td>\n",
       "      <td>2019-05-01</td>\n",
       "      <td>5</td>\n",
       "      <td>US</td>\n",
       "      <td>Amazing Architecture that is best described as...</td>\n",
       "    </tr>\n",
       "  </tbody>\n",
       "</table>\n",
       "</div>"
      ],
      "text/plain": [
       "      localID  globalRating  positionOnRanking  totalReviews  \\\n",
       "80732  MAG048           4.5                  1         12696   \n",
       "80730  MAG016           4.5                  3         26604   \n",
       "80731  MAG027           5.0                  1         21630   \n",
       "8444   MAG002           4.0                 11         75909   \n",
       "\n",
       "                    userName            userLocation  userContributions  \\\n",
       "80732  ruthboldes@ruthboldes  Mevaseret Zion, Israel                 10   \n",
       "80730  ruthboldes@ruthboldes  Mevaseret Zion, Israel                 10   \n",
       "80731  ruthboldes@ruthboldes  Mevaseret Zion, Israel                 10   \n",
       "8444     Bluebonet@Bluebonet             Houston, TX                176   \n",
       "\n",
       "      tripType reviewWritten reviewVisited  reviewRating userISOCode  \\\n",
       "80732  Couples    2019-09-14    2019-09-01             5          IL   \n",
       "80730  Couples    2019-09-14    2019-09-01             5          IL   \n",
       "80731  Couples    2019-09-14    2019-09-01             5          IL   \n",
       "8444   Couples    2019-06-23    2019-05-01             5          US   \n",
       "\n",
       "                                      reviewFullText_agg  \n",
       "80732  A must-see place for any traveler in St. Peter...  \n",
       "80730  A must-see place for any traveler in St. Peter...  \n",
       "80731  A must-see place for any traveler in St. Peter...  \n",
       "8444   Amazing Architecture that is best described as...  "
      ]
     },
     "execution_count": 54,
     "metadata": {},
     "output_type": "execute_result"
    }
   ],
   "source": [
    "reviews[reviews.duplicated(subset=['reviewFullText_agg'], keep=False)].sort_values(by=['reviewFullText_agg']).head(4)"
   ]
  },
  {
   "cell_type": "markdown",
   "id": "aaace70a-4501-44b9-aeda-00dafb5b60fc",
   "metadata": {},
   "source": [
    "##### We have identified some remaining duplicates in the 'reviewFullText' column, which may arise from different users or the same user describing multiple attractions using the same text. This situation is expected, as users might provide similar reviews for different places or even copy text from others. However, these duplicates can still offer insights into user sentiments and experiences, it doesn't necessarily impede the usability of the reviews. - for example first 2 lines is all the same except for the local ID"
   ]
  },
  {
   "cell_type": "markdown",
   "id": "f5622afe-bf5b-4198-989c-6a1671d9d4de",
   "metadata": {},
   "source": [
    "### - Outliers"
   ]
  },
  {
   "cell_type": "markdown",
   "id": "f0287c03-4e34-4301-b2f4-3f25b8bbcd82",
   "metadata": {},
   "source": [
    "- `sitesOnRanking`: The total number of attractions in TripAdvisor's regional ranking at the extraction date can change due to the time needed to make the extraction.\n",
    "\n",
    "Decision: Not critical for analysis, and fluctuations are expected due to extraction time. No need to treat outliers.\n",
    "\n",
    "- `totalReviews` - Sagrada Familia (MAG001) represents the monument with the most reviews as of the extraction date. This outlier may indicate a significant level of interest or popularity for this particular attraction, suggesting a potential pattern in user engagement. \n",
    "\n",
    "Decision: Indicates significant interest or popularity. Valuable for further analysis, and therefore, should be maintained. BUT Despite its significance for further analysis, it's acknowledged that the substantial number of visits to Sagrada Familia might dominate and influence overall trends. To address this outlier, special models will be created when necessary, ensuring a focused examination of this distinct monument's impact.\n",
    "\n",
    "- `userContributions`: Some users have a  substantial amount of contributions comparing to the mean. P.E. The user 'Neil K@293neilk' has more than 600 000 contributions, which is quite substantial considering that the majority of users around 500.\n",
    "\n",
    "Decision: Our Goal is to understand typical user behavior. We notice that some users have a incredible amount of reviews but not all are in Europe - bias introduced by a user who may primarily rate attractions in the US for example. So we decided that:   \n",
    "- We are going to treat these outliers by giving it the MAX value from the ”valid” maximum values - since this is the total reviews from the user (not only to europe attarctions) this is not a significant change and we can still consider this user in the range of frequent contributors. - we just need to have this in mind in our analysis. "
   ]
  },
  {
   "cell_type": "code",
   "execution_count": 55,
   "id": "8d742711-75d5-4578-9fc4-8151a72de031",
   "metadata": {
    "tags": []
   },
   "outputs": [
    {
     "data": {
      "text/plain": [
       "800.0"
      ]
     },
     "execution_count": 55,
     "metadata": {},
     "output_type": "execute_result"
    }
   ],
   "source": [
    "extreme_upper_bound = reviews['userContributions'].quantile(0.75) + 3 * (reviews['userContributions'].quantile(0.75) - reviews['userContributions'].quantile(0.25))\n",
    "extreme_upper_bound"
   ]
  },
  {
   "cell_type": "code",
   "execution_count": 56,
   "id": "025ceb5f-5411-4eb4-accf-e5c1125c05e9",
   "metadata": {
    "tags": []
   },
   "outputs": [],
   "source": [
    "users_above_1000 = reviews[reviews['userContributions'] > extreme_upper_bound]\n",
    "num_unique_users_above_1000 = users_above_1000['userName'].nunique()"
   ]
  },
  {
   "cell_type": "code",
   "execution_count": 57,
   "id": "1e51f74e-7b20-4e77-a41f-2513ef50b1ef",
   "metadata": {
    "tags": []
   },
   "outputs": [
    {
     "data": {
      "text/plain": [
       "4.374857490309341"
      ]
     },
     "execution_count": 57,
     "metadata": {},
     "output_type": "execute_result"
    }
   ],
   "source": [
    "(num_unique_users_above_1000 / reviews['userName'].nunique()) * 100"
   ]
  },
  {
   "cell_type": "markdown",
   "id": "8e3fb000-764d-4e2f-9f55-6ff3c97891ee",
   "metadata": {},
   "source": [
    "In our analysis of the userContributions column, we deviated from the standard 1.5 multiplier in the interquartile range (IQR) due to the highly positively skewed distribution. Opting for a multiplier of 3, typically used for extreme outliers, was motivated by the desire to maintain a broader range for evaluating frequent contributors.\n",
    "\n",
    "The impact analysis revealed that only 4% of users were affected by this choice, making the 3-multiplier reasonable. However, it's important to consider this when defining criteria for frequent contributors.\n",
    "An alternative approach could have involved recalculating the userContributions column by considering the total reviews per user in our dataset. However, this option was dismissed in favor of maintaining the importance of extremely well-traveled users. These users, with potentially high userContributions, play a valuable role in the dataset, particularly as they start to appear more frequently in the European region."
   ]
  },
  {
   "cell_type": "code",
   "execution_count": 58,
   "id": "425200af-a6c3-416f-ba53-d369a8bfd5a8",
   "metadata": {
    "tags": []
   },
   "outputs": [],
   "source": [
    "# Replace outliers in the target column with the upper bound value\n",
    "reviews['userContributions'] = reviews['userContributions'].apply(lambda x: extreme_upper_bound if x > extreme_upper_bound else x)"
   ]
  },
  {
   "cell_type": "code",
   "execution_count": 59,
   "id": "7ee5e63c-9569-46cb-ac0c-f742580084e7",
   "metadata": {
    "tags": []
   },
   "outputs": [
    {
     "data": {
      "image/png": "[encoded data removed]",
      "text/plain": [
       "<Figure size 1500x600 with 2 Axes>"
      ]
     },
     "metadata": {},
     "output_type": "display_data"
    }
   ],
   "source": [
    "fig, axes = plt.subplots(nrows=1, ncols=2, figsize=(15, 6))\n",
    "\n",
    "# Box plot\n",
    "sns.boxplot(x=reviews['userContributions'], ax=axes[0])\n",
    "axes[0].set_title('Box Plot of {}'.format('userContributions'))\n",
    "\n",
    "# Histogram\n",
    "sns.histplot(reviews['userContributions'], bins=30, ax=axes[1])\n",
    "axes[1].set_title('Histogram of {}'.format('userContributions'))\n",
    "axes[1].set_xlabel('userContributions')\n",
    "plt.tight_layout()\n",
    "plt.show()"
   ]
  },
  {
   "cell_type": "markdown",
   "id": "eed4cd88-fda7-4902-99b9-57670a42655b",
   "metadata": {},
   "source": [
    "Now, with a clearer view of the userContributions column values, we've successfully addressed the skewed distribution. While outliers persist, we can now identify these as our extreme frequent contributors. This approach allows us to better appreciate and define the contributions of users with exceptionally high values in the dataset.\n",
    "Previously, the skewed distribution of the userContributions column made it challenging to discern the underlying pattern of values. However, with the adjustments made, we have successfully brought clarity to the distribution, enabling a more informed identification of extreme frequent contributors."
   ]
  },
  {
   "cell_type": "markdown",
   "id": "b79074f6-1fb5-4fac-af08-4342ab963437",
   "metadata": {},
   "source": [
    "### - LocalID normalization to perform the merge using this column"
   ]
  },
  {
   "cell_type": "code",
   "execution_count": 60,
   "id": "d0972112-f695-4a13-ad13-aaa1e4f44fcb",
   "metadata": {
    "tags": []
   },
   "outputs": [
    {
     "name": "stdout",
     "output_type": "stream",
     "text": [
      "  localID  Count\n",
      "0       u   4699\n",
      "1   genis    469\n"
     ]
    }
   ],
   "source": [
    "invalid_localIDs = (reviews[~reviews['localID'].apply(lambda x: bool(re.match(r'^MAG\\d{3}$', str(x))))]\n",
    "                      ['localID']\n",
    "                      .value_counts()\n",
    "                      .reset_index()\n",
    "                      .rename(columns={'index': 'localID', 'localID': 'Count'}))\n",
    "\n",
    "print(invalid_localIDs)"
   ]
  },
  {
   "cell_type": "code",
   "execution_count": 61,
   "id": "465ef66a-9691-4ba4-8e6a-7d8c249e6161",
   "metadata": {
    "tags": []
   },
   "outputs": [],
   "source": [
    "localID_replace = {'genis': 'MAG005', 'u': 'MAG006'}\n",
    "reviews['localID'] = reviews['localID'].replace(localID_replace)"
   ]
  },
  {
   "cell_type": "markdown",
   "id": "2f3e7c57-ac9b-4551-9971-d1261fbe3138",
   "metadata": {},
   "source": [
    "### 6. Merging reviews and attractions"
   ]
  },
  {
   "cell_type": "code",
   "execution_count": 62,
   "id": "40a6a520-f0b0-422e-a48d-cf58478d8ff5",
   "metadata": {
    "tags": []
   },
   "outputs": [],
   "source": [
    "#Merge the two dataframes in one, by local id\n",
    "reviews_clean = pd.merge(reviews, Attractions, left_on='localID', right_on='ID')"
   ]
  },
  {
   "cell_type": "code",
   "execution_count": 63,
   "id": "d459b7fa-3c90-4194-ad65-bed7f91a48fa",
   "metadata": {
    "tags": []
   },
   "outputs": [],
   "source": [
    "#eliminar coluna repetida \n",
    "reviews_clean=reviews_clean.drop('ID',axis=1)  "
   ]
  },
  {
   "cell_type": "code",
   "execution_count": 64,
   "id": "ab860682-e09a-493e-a583-3c08a21c61b4",
   "metadata": {
    "tags": []
   },
   "outputs": [
    {
     "data": {
      "text/html": [
       "<div>\n",
       "<style scoped>\n",
       "    .dataframe tbody tr th:only-of-type {\n",
       "        vertical-align: middle;\n",
       "    }\n",
       "\n",
       "    .dataframe tbody tr th {\n",
       "        vertical-align: top;\n",
       "    }\n",
       "\n",
       "    .dataframe thead th {\n",
       "        text-align: right;\n",
       "    }\n",
       "</style>\n",
       "<table border=\"1\" class=\"dataframe\">\n",
       "  <thead>\n",
       "    <tr style=\"text-align: right;\">\n",
       "      <th></th>\n",
       "      <th>localID</th>\n",
       "      <th>globalRating</th>\n",
       "      <th>positionOnRanking</th>\n",
       "      <th>totalReviews</th>\n",
       "      <th>userName</th>\n",
       "      <th>userLocation</th>\n",
       "      <th>userContributions</th>\n",
       "      <th>tripType</th>\n",
       "      <th>reviewWritten</th>\n",
       "      <th>reviewVisited</th>\n",
       "      <th>reviewRating</th>\n",
       "      <th>userISOCode</th>\n",
       "      <th>reviewFullText_agg</th>\n",
       "      <th>Name</th>\n",
       "      <th>Country</th>\n",
       "      <th>ISO</th>\n",
       "    </tr>\n",
       "  </thead>\n",
       "  <tbody>\n",
       "    <tr>\n",
       "      <th>0</th>\n",
       "      <td>MAG013</td>\n",
       "      <td>4.5</td>\n",
       "      <td>1</td>\n",
       "      <td>34353</td>\n",
       "      <td>#1 Best@Number1Best</td>\n",
       "      <td>Ruwais, United Arab Emirates</td>\n",
       "      <td>49.0</td>\n",
       "      <td>Friends</td>\n",
       "      <td>2019-01-11</td>\n",
       "      <td>2018-08-01</td>\n",
       "      <td>5</td>\n",
       "      <td>AE</td>\n",
       "      <td>There’s not much “sightseeing” in Brussels, wh...</td>\n",
       "      <td>Grand Place</td>\n",
       "      <td>Belgium</td>\n",
       "      <td>BE</td>\n",
       "    </tr>\n",
       "    <tr>\n",
       "      <th>1</th>\n",
       "      <td>MAG013</td>\n",
       "      <td>4.5</td>\n",
       "      <td>1</td>\n",
       "      <td>34353</td>\n",
       "      <td>#travelswithhugodog@ajotraveller2016</td>\n",
       "      <td>Leeds, UK</td>\n",
       "      <td>81.0</td>\n",
       "      <td>NaN</td>\n",
       "      <td>2019-11-03</td>\n",
       "      <td>2019-07-01</td>\n",
       "      <td>5</td>\n",
       "      <td>GB</td>\n",
       "      <td>Beautiful square - well lit and lots of food a...</td>\n",
       "      <td>Grand Place</td>\n",
       "      <td>Belgium</td>\n",
       "      <td>BE</td>\n",
       "    </tr>\n",
       "    <tr>\n",
       "      <th>2</th>\n",
       "      <td>MAG013</td>\n",
       "      <td>4.5</td>\n",
       "      <td>1</td>\n",
       "      <td>34353</td>\n",
       "      <td>--Isma-1010@--Isma-1010</td>\n",
       "      <td>London, UK</td>\n",
       "      <td>10.0</td>\n",
       "      <td>Friends</td>\n",
       "      <td>2019-01-09</td>\n",
       "      <td>2019-01-01</td>\n",
       "      <td>5</td>\n",
       "      <td>GB</td>\n",
       "      <td>Definitely one of the most beautiful squares o...</td>\n",
       "      <td>Grand Place</td>\n",
       "      <td>Belgium</td>\n",
       "      <td>BE</td>\n",
       "    </tr>\n",
       "    <tr>\n",
       "      <th>3</th>\n",
       "      <td>MAG013</td>\n",
       "      <td>4.5</td>\n",
       "      <td>1</td>\n",
       "      <td>34353</td>\n",
       "      <td>164roxanne@164roxanne</td>\n",
       "      <td>Dallas, TX</td>\n",
       "      <td>13.0</td>\n",
       "      <td>Solo</td>\n",
       "      <td>2019-06-27</td>\n",
       "      <td>2019-06-01</td>\n",
       "      <td>3</td>\n",
       "      <td>US</td>\n",
       "      <td>It's very grand and beautiful... and of course...</td>\n",
       "      <td>Grand Place</td>\n",
       "      <td>Belgium</td>\n",
       "      <td>BE</td>\n",
       "    </tr>\n",
       "    <tr>\n",
       "      <th>4</th>\n",
       "      <td>MAG013</td>\n",
       "      <td>4.5</td>\n",
       "      <td>1</td>\n",
       "      <td>34353</td>\n",
       "      <td>19Spenc53@19Spenc53</td>\n",
       "      <td>London, UK</td>\n",
       "      <td>29.0</td>\n",
       "      <td>NaN</td>\n",
       "      <td>2020-03-04</td>\n",
       "      <td>2020-03-01</td>\n",
       "      <td>5</td>\n",
       "      <td>GB</td>\n",
       "      <td>You need to visit both during the day and at n...</td>\n",
       "      <td>Grand Place</td>\n",
       "      <td>Belgium</td>\n",
       "      <td>BE</td>\n",
       "    </tr>\n",
       "  </tbody>\n",
       "</table>\n",
       "</div>"
      ],
      "text/plain": [
       "  localID  globalRating  positionOnRanking  totalReviews  \\\n",
       "0  MAG013           4.5                  1         34353   \n",
       "1  MAG013           4.5                  1         34353   \n",
       "2  MAG013           4.5                  1         34353   \n",
       "3  MAG013           4.5                  1         34353   \n",
       "4  MAG013           4.5                  1         34353   \n",
       "\n",
       "                               userName                  userLocation  \\\n",
       "0                   #1 Best@Number1Best  Ruwais, United Arab Emirates   \n",
       "1  #travelswithhugodog@ajotraveller2016                     Leeds, UK   \n",
       "2               --Isma-1010@--Isma-1010                    London, UK   \n",
       "3                 164roxanne@164roxanne                    Dallas, TX   \n",
       "4                   19Spenc53@19Spenc53                    London, UK   \n",
       "\n",
       "   userContributions tripType reviewWritten reviewVisited  reviewRating  \\\n",
       "0               49.0  Friends    2019-01-11    2018-08-01             5   \n",
       "1               81.0      NaN    2019-11-03    2019-07-01             5   \n",
       "2               10.0  Friends    2019-01-09    2019-01-01             5   \n",
       "3               13.0     Solo    2019-06-27    2019-06-01             3   \n",
       "4               29.0      NaN    2020-03-04    2020-03-01             5   \n",
       "\n",
       "  userISOCode                                 reviewFullText_agg         Name  \\\n",
       "0          AE  There’s not much “sightseeing” in Brussels, wh...  Grand Place   \n",
       "1          GB  Beautiful square - well lit and lots of food a...  Grand Place   \n",
       "2          GB  Definitely one of the most beautiful squares o...  Grand Place   \n",
       "3          US  It's very grand and beautiful... and of course...  Grand Place   \n",
       "4          GB  You need to visit both during the day and at n...  Grand Place   \n",
       "\n",
       "   Country ISO  \n",
       "0  Belgium  BE  \n",
       "1  Belgium  BE  \n",
       "2  Belgium  BE  \n",
       "3  Belgium  BE  \n",
       "4  Belgium  BE  "
      ]
     },
     "execution_count": 64,
     "metadata": {},
     "output_type": "execute_result"
    }
   ],
   "source": [
    "#See dataframe\n",
    "reviews_clean.head(5)"
   ]
  },
  {
   "cell_type": "code",
   "execution_count": 65,
   "id": "1c7b5bec-2ffa-4345-b4ea-130b9a2e71be",
   "metadata": {
    "tags": []
   },
   "outputs": [
    {
     "data": {
      "text/plain": [
       "(84909, 16)"
      ]
     },
     "execution_count": 65,
     "metadata": {},
     "output_type": "execute_result"
    }
   ],
   "source": [
    "reviews_clean.shape"
   ]
  },
  {
   "cell_type": "markdown",
   "id": "ead71a99-4206-4d5a-affd-579c33f757af",
   "metadata": {},
   "source": [
    "##### We lost some rows bc we remove some duplicate reviews. 84 409 was the expected result (se reviews description after reviewfulltext cleaning)"
   ]
  },
  {
   "cell_type": "markdown",
   "id": "b2dc2872-8b99-418e-ba1d-eb91b7a41c15",
   "metadata": {},
   "source": [
    "#### Removing Curaçao"
   ]
  },
  {
   "cell_type": "code",
   "execution_count": 66,
   "id": "dd58b33b-5e3c-4a4e-b83a-658efd9216b1",
   "metadata": {
    "tags": []
   },
   "outputs": [],
   "source": [
    "reviews_clean = reviews_clean[reviews_clean['localID'] != 'MAG083']"
   ]
  },
  {
   "cell_type": "code",
   "execution_count": 67,
   "id": "039a0a32-0b73-431d-86c9-ae63b15f0c29",
   "metadata": {
    "tags": []
   },
   "outputs": [
    {
     "data": {
      "text/html": [
       "<div>\n",
       "<style scoped>\n",
       "    .dataframe tbody tr th:only-of-type {\n",
       "        vertical-align: middle;\n",
       "    }\n",
       "\n",
       "    .dataframe tbody tr th {\n",
       "        vertical-align: top;\n",
       "    }\n",
       "\n",
       "    .dataframe thead th {\n",
       "        text-align: right;\n",
       "    }\n",
       "</style>\n",
       "<table border=\"1\" class=\"dataframe\">\n",
       "  <thead>\n",
       "    <tr style=\"text-align: right;\">\n",
       "      <th></th>\n",
       "      <th>count</th>\n",
       "      <th>unique</th>\n",
       "      <th>top</th>\n",
       "      <th>freq</th>\n",
       "      <th>mean</th>\n",
       "      <th>min</th>\n",
       "      <th>25%</th>\n",
       "      <th>50%</th>\n",
       "      <th>75%</th>\n",
       "      <th>max</th>\n",
       "      <th>std</th>\n",
       "    </tr>\n",
       "  </thead>\n",
       "  <tbody>\n",
       "    <tr>\n",
       "      <th>localID</th>\n",
       "      <td>84518</td>\n",
       "      <td>99</td>\n",
       "      <td>MAG001</td>\n",
       "      <td>7901</td>\n",
       "      <td>NaN</td>\n",
       "      <td>NaN</td>\n",
       "      <td>NaN</td>\n",
       "      <td>NaN</td>\n",
       "      <td>NaN</td>\n",
       "      <td>NaN</td>\n",
       "      <td>NaN</td>\n",
       "    </tr>\n",
       "    <tr>\n",
       "      <th>globalRating</th>\n",
       "      <td>84518.0</td>\n",
       "      <td>NaN</td>\n",
       "      <td>NaN</td>\n",
       "      <td>NaN</td>\n",
       "      <td>4.48456</td>\n",
       "      <td>4.0</td>\n",
       "      <td>4.5</td>\n",
       "      <td>4.5</td>\n",
       "      <td>4.5</td>\n",
       "      <td>5.0</td>\n",
       "      <td>0.179127</td>\n",
       "    </tr>\n",
       "    <tr>\n",
       "      <th>positionOnRanking</th>\n",
       "      <td>84518.0</td>\n",
       "      <td>NaN</td>\n",
       "      <td>NaN</td>\n",
       "      <td>NaN</td>\n",
       "      <td>3.906162</td>\n",
       "      <td>1.0</td>\n",
       "      <td>1.0</td>\n",
       "      <td>2.0</td>\n",
       "      <td>6.0</td>\n",
       "      <td>55.0</td>\n",
       "      <td>4.849753</td>\n",
       "    </tr>\n",
       "    <tr>\n",
       "      <th>totalReviews</th>\n",
       "      <td>84518.0</td>\n",
       "      <td>NaN</td>\n",
       "      <td>NaN</td>\n",
       "      <td>NaN</td>\n",
       "      <td>41052.609089</td>\n",
       "      <td>5179.0</td>\n",
       "      <td>14354.0</td>\n",
       "      <td>24454.0</td>\n",
       "      <td>51324.0</td>\n",
       "      <td>163828.0</td>\n",
       "      <td>43470.585083</td>\n",
       "    </tr>\n",
       "    <tr>\n",
       "      <th>userName</th>\n",
       "      <td>84506</td>\n",
       "      <td>65429</td>\n",
       "      <td>Malgorzata@Margo7850p</td>\n",
       "      <td>28</td>\n",
       "      <td>NaN</td>\n",
       "      <td>NaN</td>\n",
       "      <td>NaN</td>\n",
       "      <td>NaN</td>\n",
       "      <td>NaN</td>\n",
       "      <td>NaN</td>\n",
       "      <td>NaN</td>\n",
       "    </tr>\n",
       "    <tr>\n",
       "      <th>userLocation</th>\n",
       "      <td>72185</td>\n",
       "      <td>12541</td>\n",
       "      <td>London, UK</td>\n",
       "      <td>3414</td>\n",
       "      <td>NaN</td>\n",
       "      <td>NaN</td>\n",
       "      <td>NaN</td>\n",
       "      <td>NaN</td>\n",
       "      <td>NaN</td>\n",
       "      <td>NaN</td>\n",
       "      <td>NaN</td>\n",
       "    </tr>\n",
       "    <tr>\n",
       "      <th>userContributions</th>\n",
       "      <td>84518.0</td>\n",
       "      <td>NaN</td>\n",
       "      <td>NaN</td>\n",
       "      <td>NaN</td>\n",
       "      <td>175.763234</td>\n",
       "      <td>0.0</td>\n",
       "      <td>20.0</td>\n",
       "      <td>66.0</td>\n",
       "      <td>215.0</td>\n",
       "      <td>800.0</td>\n",
       "      <td>238.523678</td>\n",
       "    </tr>\n",
       "    <tr>\n",
       "      <th>tripType</th>\n",
       "      <td>57869</td>\n",
       "      <td>5</td>\n",
       "      <td>Couples</td>\n",
       "      <td>29130</td>\n",
       "      <td>NaN</td>\n",
       "      <td>NaN</td>\n",
       "      <td>NaN</td>\n",
       "      <td>NaN</td>\n",
       "      <td>NaN</td>\n",
       "      <td>NaN</td>\n",
       "      <td>NaN</td>\n",
       "    </tr>\n",
       "    <tr>\n",
       "      <th>reviewWritten</th>\n",
       "      <td>84518</td>\n",
       "      <td>NaN</td>\n",
       "      <td>NaN</td>\n",
       "      <td>NaN</td>\n",
       "      <td>2019-09-01 05:35:23.334674432</td>\n",
       "      <td>2019-01-01 00:00:00</td>\n",
       "      <td>2019-05-12 00:00:00</td>\n",
       "      <td>2019-08-07 00:00:00</td>\n",
       "      <td>2019-11-03 00:00:00</td>\n",
       "      <td>2021-08-21 00:00:00</td>\n",
       "      <td>NaN</td>\n",
       "    </tr>\n",
       "    <tr>\n",
       "      <th>reviewVisited</th>\n",
       "      <td>84518</td>\n",
       "      <td>NaN</td>\n",
       "      <td>NaN</td>\n",
       "      <td>NaN</td>\n",
       "      <td>2019-07-18 09:54:51.445609216</td>\n",
       "      <td>2015-10-01 00:00:00</td>\n",
       "      <td>2019-04-01 00:00:00</td>\n",
       "      <td>2019-07-01 00:00:00</td>\n",
       "      <td>2019-10-01 00:00:00</td>\n",
       "      <td>2021-08-20 00:00:00</td>\n",
       "      <td>NaN</td>\n",
       "    </tr>\n",
       "    <tr>\n",
       "      <th>reviewRating</th>\n",
       "      <td>84518.0</td>\n",
       "      <td>NaN</td>\n",
       "      <td>NaN</td>\n",
       "      <td>NaN</td>\n",
       "      <td>4.577273</td>\n",
       "      <td>1.0</td>\n",
       "      <td>4.0</td>\n",
       "      <td>5.0</td>\n",
       "      <td>5.0</td>\n",
       "      <td>5.0</td>\n",
       "      <td>0.794181</td>\n",
       "    </tr>\n",
       "    <tr>\n",
       "      <th>userISOCode</th>\n",
       "      <td>72185</td>\n",
       "      <td>171</td>\n",
       "      <td>GB</td>\n",
       "      <td>27421</td>\n",
       "      <td>NaN</td>\n",
       "      <td>NaN</td>\n",
       "      <td>NaN</td>\n",
       "      <td>NaN</td>\n",
       "      <td>NaN</td>\n",
       "      <td>NaN</td>\n",
       "      <td>NaN</td>\n",
       "    </tr>\n",
       "    <tr>\n",
       "      <th>reviewFullText_agg</th>\n",
       "      <td>84518</td>\n",
       "      <td>84504</td>\n",
       "      <td>A must-see place for any traveler in St. Peter...</td>\n",
       "      <td>3</td>\n",
       "      <td>NaN</td>\n",
       "      <td>NaN</td>\n",
       "      <td>NaN</td>\n",
       "      <td>NaN</td>\n",
       "      <td>NaN</td>\n",
       "      <td>NaN</td>\n",
       "      <td>NaN</td>\n",
       "    </tr>\n",
       "    <tr>\n",
       "      <th>Name</th>\n",
       "      <td>84518</td>\n",
       "      <td>98</td>\n",
       "      <td>Basilica of the Sagrada Familia</td>\n",
       "      <td>7901</td>\n",
       "      <td>NaN</td>\n",
       "      <td>NaN</td>\n",
       "      <td>NaN</td>\n",
       "      <td>NaN</td>\n",
       "      <td>NaN</td>\n",
       "      <td>NaN</td>\n",
       "      <td>NaN</td>\n",
       "    </tr>\n",
       "    <tr>\n",
       "      <th>Country</th>\n",
       "      <td>84518</td>\n",
       "      <td>24</td>\n",
       "      <td>Spain</td>\n",
       "      <td>20637</td>\n",
       "      <td>NaN</td>\n",
       "      <td>NaN</td>\n",
       "      <td>NaN</td>\n",
       "      <td>NaN</td>\n",
       "      <td>NaN</td>\n",
       "      <td>NaN</td>\n",
       "      <td>NaN</td>\n",
       "    </tr>\n",
       "    <tr>\n",
       "      <th>ISO</th>\n",
       "      <td>84518</td>\n",
       "      <td>23</td>\n",
       "      <td>GB</td>\n",
       "      <td>23355</td>\n",
       "      <td>NaN</td>\n",
       "      <td>NaN</td>\n",
       "      <td>NaN</td>\n",
       "      <td>NaN</td>\n",
       "      <td>NaN</td>\n",
       "      <td>NaN</td>\n",
       "      <td>NaN</td>\n",
       "    </tr>\n",
       "  </tbody>\n",
       "</table>\n",
       "</div>"
      ],
      "text/plain": [
       "                      count unique  \\\n",
       "localID               84518     99   \n",
       "globalRating        84518.0    NaN   \n",
       "positionOnRanking   84518.0    NaN   \n",
       "totalReviews        84518.0    NaN   \n",
       "userName              84506  65429   \n",
       "userLocation          72185  12541   \n",
       "userContributions   84518.0    NaN   \n",
       "tripType              57869      5   \n",
       "reviewWritten         84518    NaN   \n",
       "reviewVisited         84518    NaN   \n",
       "reviewRating        84518.0    NaN   \n",
       "userISOCode           72185    171   \n",
       "reviewFullText_agg    84518  84504   \n",
       "Name                  84518     98   \n",
       "Country               84518     24   \n",
       "ISO                   84518     23   \n",
       "\n",
       "                                                                  top   freq  \\\n",
       "localID                                                        MAG001   7901   \n",
       "globalRating                                                      NaN    NaN   \n",
       "positionOnRanking                                                 NaN    NaN   \n",
       "totalReviews                                                      NaN    NaN   \n",
       "userName                                        Malgorzata@Margo7850p     28   \n",
       "userLocation                                               London, UK   3414   \n",
       "userContributions                                                 NaN    NaN   \n",
       "tripType                                                      Couples  29130   \n",
       "reviewWritten                                                     NaN    NaN   \n",
       "reviewVisited                                                     NaN    NaN   \n",
       "reviewRating                                                      NaN    NaN   \n",
       "userISOCode                                                        GB  27421   \n",
       "reviewFullText_agg  A must-see place for any traveler in St. Peter...      3   \n",
       "Name                                  Basilica of the Sagrada Familia   7901   \n",
       "Country                                                         Spain  20637   \n",
       "ISO                                                                GB  23355   \n",
       "\n",
       "                                             mean                  min  \\\n",
       "localID                                       NaN                  NaN   \n",
       "globalRating                              4.48456                  4.0   \n",
       "positionOnRanking                        3.906162                  1.0   \n",
       "totalReviews                         41052.609089               5179.0   \n",
       "userName                                      NaN                  NaN   \n",
       "userLocation                                  NaN                  NaN   \n",
       "userContributions                      175.763234                  0.0   \n",
       "tripType                                      NaN                  NaN   \n",
       "reviewWritten       2019-09-01 05:35:23.334674432  2019-01-01 00:00:00   \n",
       "reviewVisited       2019-07-18 09:54:51.445609216  2015-10-01 00:00:00   \n",
       "reviewRating                             4.577273                  1.0   \n",
       "userISOCode                                   NaN                  NaN   \n",
       "reviewFullText_agg                            NaN                  NaN   \n",
       "Name                                          NaN                  NaN   \n",
       "Country                                       NaN                  NaN   \n",
       "ISO                                           NaN                  NaN   \n",
       "\n",
       "                                    25%                  50%  \\\n",
       "localID                             NaN                  NaN   \n",
       "globalRating                        4.5                  4.5   \n",
       "positionOnRanking                   1.0                  2.0   \n",
       "totalReviews                    14354.0              24454.0   \n",
       "userName                            NaN                  NaN   \n",
       "userLocation                        NaN                  NaN   \n",
       "userContributions                  20.0                 66.0   \n",
       "tripType                            NaN                  NaN   \n",
       "reviewWritten       2019-05-12 00:00:00  2019-08-07 00:00:00   \n",
       "reviewVisited       2019-04-01 00:00:00  2019-07-01 00:00:00   \n",
       "reviewRating                        4.0                  5.0   \n",
       "userISOCode                         NaN                  NaN   \n",
       "reviewFullText_agg                  NaN                  NaN   \n",
       "Name                                NaN                  NaN   \n",
       "Country                             NaN                  NaN   \n",
       "ISO                                 NaN                  NaN   \n",
       "\n",
       "                                    75%                  max           std  \n",
       "localID                             NaN                  NaN           NaN  \n",
       "globalRating                        4.5                  5.0      0.179127  \n",
       "positionOnRanking                   6.0                 55.0      4.849753  \n",
       "totalReviews                    51324.0             163828.0  43470.585083  \n",
       "userName                            NaN                  NaN           NaN  \n",
       "userLocation                        NaN                  NaN           NaN  \n",
       "userContributions                 215.0                800.0    238.523678  \n",
       "tripType                            NaN                  NaN           NaN  \n",
       "reviewWritten       2019-11-03 00:00:00  2021-08-21 00:00:00           NaN  \n",
       "reviewVisited       2019-10-01 00:00:00  2021-08-20 00:00:00           NaN  \n",
       "reviewRating                        5.0                  5.0      0.794181  \n",
       "userISOCode                         NaN                  NaN           NaN  \n",
       "reviewFullText_agg                  NaN                  NaN           NaN  \n",
       "Name                                NaN                  NaN           NaN  \n",
       "Country                             NaN                  NaN           NaN  \n",
       "ISO                                 NaN                  NaN           NaN  "
      ]
     },
     "execution_count": 67,
     "metadata": {},
     "output_type": "execute_result"
    }
   ],
   "source": [
    "reviews_clean.describe(include='all', datetime_is_numeric=True).T"
   ]
  },
  {
   "cell_type": "code",
   "execution_count": 68,
   "id": "ddeb16ff-3d2e-41ba-836b-8694a7b97572",
   "metadata": {
    "tags": []
   },
   "outputs": [
    {
     "data": {
      "text/plain": [
       "(84518, 16)"
      ]
     },
     "execution_count": 68,
     "metadata": {},
     "output_type": "execute_result"
    }
   ],
   "source": [
    "reviews_clean.shape"
   ]
  },
  {
   "cell_type": "markdown",
   "id": "45997aa5-96c7-452a-9e56-49136eb6531b",
   "metadata": {},
   "source": [
    "#### - Missing values "
   ]
  },
  {
   "cell_type": "code",
   "execution_count": 69,
   "id": "0d3bd365-0fe9-4268-a98a-d48a655b3688",
   "metadata": {
    "tags": []
   },
   "outputs": [
    {
     "data": {
      "text/plain": [
       "localID                   0\n",
       "globalRating              0\n",
       "positionOnRanking         0\n",
       "totalReviews              0\n",
       "userName                 12\n",
       "userLocation          12333\n",
       "userContributions         0\n",
       "tripType              26649\n",
       "reviewWritten             0\n",
       "reviewVisited             0\n",
       "reviewRating              0\n",
       "userISOCode           12333\n",
       "reviewFullText_agg        0\n",
       "Name                      0\n",
       "Country                   0\n",
       "ISO                       0\n",
       "dtype: int64"
      ]
     },
     "execution_count": 69,
     "metadata": {},
     "output_type": "execute_result"
    }
   ],
   "source": [
    "reviews_clean.isnull().sum()"
   ]
  },
  {
   "cell_type": "code",
   "execution_count": 70,
   "id": "ce5ef859-1d5c-41cb-a4a2-7dcfa07dcdf3",
   "metadata": {
    "tags": []
   },
   "outputs": [],
   "source": [
    "constant_value = \"NULL\"\n",
    "reviews_clean['userLocation'].fillna(constant_value, inplace=True)\n",
    "reviews_clean['tripType'].fillna(constant_value, inplace=True)\n",
    "reviews_clean['userISOCode'].fillna(constant_value, inplace=True)\n",
    "reviews_clean['userName'].fillna(constant_value, inplace=True)"
   ]
  },
  {
   "cell_type": "code",
   "execution_count": 71,
   "id": "b363563f-425b-454c-bc7b-c74ee56fa6b4",
   "metadata": {
    "tags": []
   },
   "outputs": [
    {
     "data": {
      "text/plain": [
       "localID               0\n",
       "globalRating          0\n",
       "positionOnRanking     0\n",
       "totalReviews          0\n",
       "userName              0\n",
       "userLocation          0\n",
       "userContributions     0\n",
       "tripType              0\n",
       "reviewWritten         0\n",
       "reviewVisited         0\n",
       "reviewRating          0\n",
       "userISOCode           0\n",
       "reviewFullText_agg    0\n",
       "Name                  0\n",
       "Country               0\n",
       "ISO                   0\n",
       "dtype: int64"
      ]
     },
     "execution_count": 71,
     "metadata": {},
     "output_type": "execute_result"
    }
   ],
   "source": [
    "reviews_clean.isnull().sum()"
   ]
  },
  {
   "cell_type": "markdown",
   "id": "e503a957-f3cd-4e6a-ab38-ef132698760b",
   "metadata": {},
   "source": [
    "- Handling Missing Values in Categorical Columns\n",
    "\n",
    "For categorical variables like **userLocation**, **tripType**, and **userISOCode**, we address missing values through imputation with a constant. This involves filling the missing entries with a designated value, in this case, \"NULL\"."
   ]
  },
  {
   "cell_type": "markdown",
   "id": "7b4dec11-1631-4425-8d06-9933dadbd8dd",
   "metadata": {},
   "source": [
    "### 7. Add the holiday's dataset\n",
    "#### 7.1. Data Preparation"
   ]
  },
  {
   "cell_type": "code",
   "execution_count": 72,
   "id": "760ba24d-5af5-4969-b038-83e35c7fb5a1",
   "metadata": {
    "tags": []
   },
   "outputs": [
    {
     "data": {
      "text/html": [
       "<div>\n",
       "<style scoped>\n",
       "    .dataframe tbody tr th:only-of-type {\n",
       "        vertical-align: middle;\n",
       "    }\n",
       "\n",
       "    .dataframe tbody tr th {\n",
       "        vertical-align: top;\n",
       "    }\n",
       "\n",
       "    .dataframe thead th {\n",
       "        text-align: right;\n",
       "    }\n",
       "</style>\n",
       "<table border=\"1\" class=\"dataframe\">\n",
       "  <thead>\n",
       "    <tr style=\"text-align: right;\">\n",
       "      <th></th>\n",
       "      <th>countryOrRegion</th>\n",
       "      <th>holidayName</th>\n",
       "      <th>normalizeHolidayName</th>\n",
       "      <th>isPaidTimeOff</th>\n",
       "      <th>countryRegionCode</th>\n",
       "      <th>date</th>\n",
       "    </tr>\n",
       "    <tr>\n",
       "      <th>Unnamed: 0</th>\n",
       "      <th></th>\n",
       "      <th></th>\n",
       "      <th></th>\n",
       "      <th></th>\n",
       "      <th></th>\n",
       "      <th></th>\n",
       "    </tr>\n",
       "  </thead>\n",
       "  <tbody>\n",
       "    <tr>\n",
       "      <th>0</th>\n",
       "      <td>Argentina</td>\n",
       "      <td>Año Nuevo [New Year's Day]</td>\n",
       "      <td>Año Nuevo [New Year's Day]</td>\n",
       "      <td>NaN</td>\n",
       "      <td>AR</td>\n",
       "      <td>1970-01-01</td>\n",
       "    </tr>\n",
       "    <tr>\n",
       "      <th>1</th>\n",
       "      <td>Australia</td>\n",
       "      <td>New Year's Day</td>\n",
       "      <td>New Year's Day</td>\n",
       "      <td>NaN</td>\n",
       "      <td>AU</td>\n",
       "      <td>1970-01-01</td>\n",
       "    </tr>\n",
       "    <tr>\n",
       "      <th>2</th>\n",
       "      <td>Austria</td>\n",
       "      <td>Neujahr</td>\n",
       "      <td>Neujahr</td>\n",
       "      <td>NaN</td>\n",
       "      <td>AT</td>\n",
       "      <td>1970-01-01</td>\n",
       "    </tr>\n",
       "    <tr>\n",
       "      <th>3</th>\n",
       "      <td>Belgium</td>\n",
       "      <td>Nieuwjaarsdag</td>\n",
       "      <td>Nieuwjaarsdag</td>\n",
       "      <td>NaN</td>\n",
       "      <td>BE</td>\n",
       "      <td>1970-01-01</td>\n",
       "    </tr>\n",
       "    <tr>\n",
       "      <th>4</th>\n",
       "      <td>Brazil</td>\n",
       "      <td>Ano novo</td>\n",
       "      <td>Ano novo</td>\n",
       "      <td>NaN</td>\n",
       "      <td>BR</td>\n",
       "      <td>1970-01-01</td>\n",
       "    </tr>\n",
       "    <tr>\n",
       "      <th>...</th>\n",
       "      <td>...</td>\n",
       "      <td>...</td>\n",
       "      <td>...</td>\n",
       "      <td>...</td>\n",
       "      <td>...</td>\n",
       "      <td>...</td>\n",
       "    </tr>\n",
       "    <tr>\n",
       "      <th>69552</th>\n",
       "      <td>Sweden</td>\n",
       "      <td>Annandag jul</td>\n",
       "      <td>Annandag jul</td>\n",
       "      <td>NaN</td>\n",
       "      <td>SE</td>\n",
       "      <td>2098-12-26</td>\n",
       "    </tr>\n",
       "    <tr>\n",
       "      <th>69553</th>\n",
       "      <td>United Kingdom</td>\n",
       "      <td>Boxing Day</td>\n",
       "      <td>Boxing Day</td>\n",
       "      <td>True</td>\n",
       "      <td>GB</td>\n",
       "      <td>2098-12-26</td>\n",
       "    </tr>\n",
       "    <tr>\n",
       "      <th>69554</th>\n",
       "      <td>Wales</td>\n",
       "      <td>Boxing Day</td>\n",
       "      <td>Boxing Day</td>\n",
       "      <td>NaN</td>\n",
       "      <td>NaN</td>\n",
       "      <td>2098-12-26</td>\n",
       "    </tr>\n",
       "    <tr>\n",
       "      <th>69555</th>\n",
       "      <td>Norway</td>\n",
       "      <td>Søndag</td>\n",
       "      <td>Søndag</td>\n",
       "      <td>NaN</td>\n",
       "      <td>NO</td>\n",
       "      <td>2098-12-28</td>\n",
       "    </tr>\n",
       "    <tr>\n",
       "      <th>69556</th>\n",
       "      <td>Sweden</td>\n",
       "      <td>Söndag</td>\n",
       "      <td>Söndag</td>\n",
       "      <td>NaN</td>\n",
       "      <td>SE</td>\n",
       "      <td>2098-12-28</td>\n",
       "    </tr>\n",
       "  </tbody>\n",
       "</table>\n",
       "<p>69557 rows × 6 columns</p>\n",
       "</div>"
      ],
      "text/plain": [
       "           countryOrRegion                 holidayName  \\\n",
       "Unnamed: 0                                               \n",
       "0                Argentina  Año Nuevo [New Year's Day]   \n",
       "1                Australia              New Year's Day   \n",
       "2                  Austria                     Neujahr   \n",
       "3                  Belgium               Nieuwjaarsdag   \n",
       "4                   Brazil                    Ano novo   \n",
       "...                    ...                         ...   \n",
       "69552               Sweden                Annandag jul   \n",
       "69553       United Kingdom                  Boxing Day   \n",
       "69554                Wales                  Boxing Day   \n",
       "69555               Norway                      Søndag   \n",
       "69556               Sweden                      Söndag   \n",
       "\n",
       "                  normalizeHolidayName isPaidTimeOff countryRegionCode  \\\n",
       "Unnamed: 0                                                               \n",
       "0           Año Nuevo [New Year's Day]           NaN                AR   \n",
       "1                       New Year's Day           NaN                AU   \n",
       "2                              Neujahr           NaN                AT   \n",
       "3                        Nieuwjaarsdag           NaN                BE   \n",
       "4                             Ano novo           NaN                BR   \n",
       "...                                ...           ...               ...   \n",
       "69552                     Annandag jul           NaN                SE   \n",
       "69553                       Boxing Day          True                GB   \n",
       "69554                       Boxing Day           NaN               NaN   \n",
       "69555                           Søndag           NaN                NO   \n",
       "69556                           Söndag           NaN                SE   \n",
       "\n",
       "                  date  \n",
       "Unnamed: 0              \n",
       "0           1970-01-01  \n",
       "1           1970-01-01  \n",
       "2           1970-01-01  \n",
       "3           1970-01-01  \n",
       "4           1970-01-01  \n",
       "...                ...  \n",
       "69552       2098-12-26  \n",
       "69553       2098-12-26  \n",
       "69554       2098-12-26  \n",
       "69555       2098-12-28  \n",
       "69556       2098-12-28  \n",
       "\n",
       "[69557 rows x 6 columns]"
      ]
     },
     "execution_count": 72,
     "metadata": {},
     "output_type": "execute_result"
    }
   ],
   "source": [
    "holidays = pd.read_csv('Holidays.csv', delimiter=';')\n",
    "holidays.set_index('Unnamed: 0', inplace=True)\n",
    "holidays"
   ]
  },
  {
   "cell_type": "code",
   "execution_count": 73,
   "id": "154cb6de-83ae-48df-ac88-e9213b6615d0",
   "metadata": {
    "tags": []
   },
   "outputs": [
    {
     "data": {
      "text/html": [
       "<div>\n",
       "<style scoped>\n",
       "    .dataframe tbody tr th:only-of-type {\n",
       "        vertical-align: middle;\n",
       "    }\n",
       "\n",
       "    .dataframe tbody tr th {\n",
       "        vertical-align: top;\n",
       "    }\n",
       "\n",
       "    .dataframe thead th {\n",
       "        text-align: right;\n",
       "    }\n",
       "</style>\n",
       "<table border=\"1\" class=\"dataframe\">\n",
       "  <thead>\n",
       "    <tr style=\"text-align: right;\">\n",
       "      <th></th>\n",
       "      <th>count</th>\n",
       "      <th>unique</th>\n",
       "      <th>top</th>\n",
       "      <th>freq</th>\n",
       "    </tr>\n",
       "  </thead>\n",
       "  <tbody>\n",
       "    <tr>\n",
       "      <th>countryOrRegion</th>\n",
       "      <td>69557</td>\n",
       "      <td>38</td>\n",
       "      <td>Sweden</td>\n",
       "      <td>8394</td>\n",
       "    </tr>\n",
       "    <tr>\n",
       "      <th>holidayName</th>\n",
       "      <td>69557</td>\n",
       "      <td>483</td>\n",
       "      <td>Søndag</td>\n",
       "      <td>6386</td>\n",
       "    </tr>\n",
       "    <tr>\n",
       "      <th>normalizeHolidayName</th>\n",
       "      <td>69557</td>\n",
       "      <td>438</td>\n",
       "      <td>Søndag</td>\n",
       "      <td>6386</td>\n",
       "    </tr>\n",
       "    <tr>\n",
       "      <th>isPaidTimeOff</th>\n",
       "      <td>3934</td>\n",
       "      <td>2</td>\n",
       "      <td>True</td>\n",
       "      <td>2695</td>\n",
       "    </tr>\n",
       "    <tr>\n",
       "      <th>countryRegionCode</th>\n",
       "      <td>64559</td>\n",
       "      <td>34</td>\n",
       "      <td>SE</td>\n",
       "      <td>8394</td>\n",
       "    </tr>\n",
       "    <tr>\n",
       "      <th>date</th>\n",
       "      <td>69557</td>\n",
       "      <td>20665</td>\n",
       "      <td>2001-01-01</td>\n",
       "      <td>37</td>\n",
       "    </tr>\n",
       "  </tbody>\n",
       "</table>\n",
       "</div>"
      ],
      "text/plain": [
       "                      count unique         top  freq\n",
       "countryOrRegion       69557     38      Sweden  8394\n",
       "holidayName           69557    483      Søndag  6386\n",
       "normalizeHolidayName  69557    438      Søndag  6386\n",
       "isPaidTimeOff          3934      2        True  2695\n",
       "countryRegionCode     64559     34          SE  8394\n",
       "date                  69557  20665  2001-01-01    37"
      ]
     },
     "execution_count": 73,
     "metadata": {},
     "output_type": "execute_result"
    }
   ],
   "source": [
    "holidays.describe(include='all').T"
   ]
  },
  {
   "cell_type": "code",
   "execution_count": 74,
   "id": "cb5cb623-418e-4815-96c6-38843b79431e",
   "metadata": {
    "tags": []
   },
   "outputs": [
    {
     "name": "stdout",
     "output_type": "stream",
     "text": [
      "['Scotland' 'Northern Ireland' 'England' 'Wales']\n"
     ]
    }
   ],
   "source": [
    "# Identify unique 'countryOrRegion' values where 'countryRegionCode' is NaN\n",
    "nan_values = holidays.loc[holidays['countryRegionCode'].isna(), 'countryOrRegion'].unique()\n",
    "print(nan_values)"
   ]
  },
  {
   "cell_type": "code",
   "execution_count": 75,
   "id": "cc78185d-3846-44ec-9365-1fd8dc9e7cdf",
   "metadata": {
    "tags": []
   },
   "outputs": [],
   "source": [
    "missing_iso = {'Scotland': 'GB', 'Northern Ireland': 'GB', 'England': 'GB', 'Wales': 'GB'}\n",
    "holidays['countryRegionCode'].fillna(holidays['countryOrRegion'].map(missing_iso), inplace=True)"
   ]
  },
  {
   "cell_type": "code",
   "execution_count": 76,
   "id": "bcbbfa45-2a80-4662-bcc8-6924227e785e",
   "metadata": {
    "tags": []
   },
   "outputs": [
    {
     "data": {
      "text/html": [
       "<div>\n",
       "<style scoped>\n",
       "    .dataframe tbody tr th:only-of-type {\n",
       "        vertical-align: middle;\n",
       "    }\n",
       "\n",
       "    .dataframe tbody tr th {\n",
       "        vertical-align: top;\n",
       "    }\n",
       "\n",
       "    .dataframe thead th {\n",
       "        text-align: right;\n",
       "    }\n",
       "</style>\n",
       "<table border=\"1\" class=\"dataframe\">\n",
       "  <thead>\n",
       "    <tr style=\"text-align: right;\">\n",
       "      <th></th>\n",
       "      <th>count</th>\n",
       "      <th>unique</th>\n",
       "      <th>top</th>\n",
       "      <th>freq</th>\n",
       "    </tr>\n",
       "  </thead>\n",
       "  <tbody>\n",
       "    <tr>\n",
       "      <th>countryOrRegion</th>\n",
       "      <td>69557</td>\n",
       "      <td>38</td>\n",
       "      <td>Sweden</td>\n",
       "      <td>8394</td>\n",
       "    </tr>\n",
       "    <tr>\n",
       "      <th>holidayName</th>\n",
       "      <td>69557</td>\n",
       "      <td>483</td>\n",
       "      <td>Søndag</td>\n",
       "      <td>6386</td>\n",
       "    </tr>\n",
       "    <tr>\n",
       "      <th>normalizeHolidayName</th>\n",
       "      <td>69557</td>\n",
       "      <td>438</td>\n",
       "      <td>Søndag</td>\n",
       "      <td>6386</td>\n",
       "    </tr>\n",
       "    <tr>\n",
       "      <th>isPaidTimeOff</th>\n",
       "      <td>3934</td>\n",
       "      <td>2</td>\n",
       "      <td>True</td>\n",
       "      <td>2695</td>\n",
       "    </tr>\n",
       "    <tr>\n",
       "      <th>countryRegionCode</th>\n",
       "      <td>69557</td>\n",
       "      <td>34</td>\n",
       "      <td>SE</td>\n",
       "      <td>8394</td>\n",
       "    </tr>\n",
       "    <tr>\n",
       "      <th>date</th>\n",
       "      <td>69557</td>\n",
       "      <td>20665</td>\n",
       "      <td>2001-01-01</td>\n",
       "      <td>37</td>\n",
       "    </tr>\n",
       "  </tbody>\n",
       "</table>\n",
       "</div>"
      ],
      "text/plain": [
       "                      count unique         top  freq\n",
       "countryOrRegion       69557     38      Sweden  8394\n",
       "holidayName           69557    483      Søndag  6386\n",
       "normalizeHolidayName  69557    438      Søndag  6386\n",
       "isPaidTimeOff          3934      2        True  2695\n",
       "countryRegionCode     69557     34          SE  8394\n",
       "date                  69557  20665  2001-01-01    37"
      ]
     },
     "execution_count": 76,
     "metadata": {},
     "output_type": "execute_result"
    }
   ],
   "source": [
    "holidays.describe(include='all').T"
   ]
  },
  {
   "cell_type": "code",
   "execution_count": 77,
   "id": "2e7d3926-6202-49dd-b585-ecd7a3d072b9",
   "metadata": {
    "tags": []
   },
   "outputs": [],
   "source": [
    "holidays['date'] = pd.to_datetime(holidays['date'], errors='coerce')"
   ]
  },
  {
   "cell_type": "code",
   "execution_count": 78,
   "id": "dfe65b05-dcf4-4f9c-8e71-308ab63fd80c",
   "metadata": {
    "tags": []
   },
   "outputs": [],
   "source": [
    "reviews_clean['reviewWritten'] = pd.to_datetime(reviews_clean['reviewWritten'], errors='coerce')\n",
    "reviews_clean['reviewVisited'] = pd.to_datetime(reviews_clean['reviewVisited'], errors='coerce')\n",
    "\n",
    "holidays = holidays.copy()\n",
    "\n",
    "holidays = holidays[\n",
    "    (holidays['date'] >= reviews_clean['reviewWritten'].min()) & \n",
    "    (holidays['date'] <= reviews_clean['reviewVisited'].max())\n",
    "]"
   ]
  },
  {
   "cell_type": "markdown",
   "id": "f25195fa-2f64-48e8-9beb-e053a625320e",
   "metadata": {},
   "source": [
    "We want to add to the europe dataframe if on the day of the visit, in that country, it was a holiday or no"
   ]
  },
  {
   "cell_type": "code",
   "execution_count": 79,
   "id": "559d6022-2a22-4a61-9885-91f7272c9463",
   "metadata": {
    "tags": []
   },
   "outputs": [],
   "source": [
    "reviews_clean['holiday'] = (\n",
    "    (reviews_clean['ISO'].isin(holidays['countryRegionCode'])) &\n",
    "    (reviews_clean['reviewVisited'].isin(holidays['date']))\n",
    ").astype(int)"
   ]
  },
  {
   "cell_type": "code",
   "execution_count": 80,
   "id": "9c294d56-9974-4569-bd96-3a491789133b",
   "metadata": {},
   "outputs": [
    {
     "data": {
      "text/plain": [
       "40567"
      ]
     },
     "execution_count": 80,
     "metadata": {},
     "output_type": "execute_result"
    }
   ],
   "source": [
    "reviews_clean['holiday'].sum()"
   ]
  },
  {
   "cell_type": "code",
   "execution_count": 81,
   "id": "90935180-4881-4f8f-b65d-87c8a9f55a1a",
   "metadata": {
    "tags": []
   },
   "outputs": [
    {
     "data": {
      "text/plain": [
       "(1467, 6)"
      ]
     },
     "execution_count": 81,
     "metadata": {},
     "output_type": "execute_result"
    }
   ],
   "source": [
    "holidays.shape"
   ]
  },
  {
   "cell_type": "markdown",
   "id": "dbe13b84-8ec7-48bf-915a-0141fd9e4f47",
   "metadata": {},
   "source": [
    "Add 2 columns saying if it was sunday and new year"
   ]
  },
  {
   "cell_type": "code",
   "execution_count": 82,
   "id": "943f8544-e5cd-4010-828f-a946b7db5663",
   "metadata": {
    "tags": []
   },
   "outputs": [],
   "source": [
    "# Change the holiday name to English\n",
    "# Apply translation function to 'holiday_name' column\n",
    "holidays['english_holiday_name'] = holidays['holidayName'].astype(str).apply(translate_to_english)"
   ]
  },
  {
   "cell_type": "code",
   "execution_count": 83,
   "id": "0df8619a-c43c-4d46-b2ef-8001708102e0",
   "metadata": {
    "tags": []
   },
   "outputs": [],
   "source": [
    "def clean_holiday_name(name):\n",
    "    name = name.lower()\n",
    "    # Convert to lowercase and remove non-alphabetic characters\n",
    "    cleaned_name = re.sub(r'[^a-zA-Z\\s]', '', name)\n",
    "    \n",
    "    # Check if the cleaned name contains 'new year' and replace with 'New Year'\n",
    "    if 'new year' in cleaned_name:\n",
    "        return 'New Year'\n",
    "    elif 'international labor day' in cleaned_name:\n",
    "        return \"labor day\"\n",
    "    elif 'feast of all saints' in cleaned_name:\n",
    "        return \"all saints\"\n",
    "    elif 'all saints day' in cleaned_name:\n",
    "        return 'all saints'\n",
    "    else:\n",
    "        return name\n",
    "\n",
    "holidays['english_name_cleaned'] = holidays['english_holiday_name'].apply(clean_holiday_name)"
   ]
  },
  {
   "cell_type": "code",
   "execution_count": 84,
   "id": "95429c3e-8bd1-4ccf-a83a-5d906e9061ce",
   "metadata": {
    "tags": []
   },
   "outputs": [],
   "source": [
    "holidays['date'] = pd.to_datetime(holidays['date'], errors='coerce')"
   ]
  },
  {
   "cell_type": "code",
   "execution_count": 85,
   "id": "b41810cc-b8b8-45e9-9aea-c3b266f89abd",
   "metadata": {
    "tags": []
   },
   "outputs": [],
   "source": [
    "# add the holiday name to reviews _clean\n",
    "conditions = (reviews_clean['ISO'].isin(holidays['countryRegionCode'])) & (reviews_clean['reviewVisited'].isin(holidays['date']))\n",
    "mapping_dict = dict(zip(holidays.set_index(['countryRegionCode', 'date']).index, holidays['english_name_cleaned']))\n",
    "reviews_clean['holiday_name'] = reviews_clean.set_index(['ISO', 'reviewVisited']).index.map(mapping_dict).fillna('No').values\n",
    "reviews_clean = reviews_clean.reset_index(drop=True)"
   ]
  },
  {
   "cell_type": "code",
   "execution_count": 86,
   "id": "a1e49a81-464b-440f-ab21-dc2b88754548",
   "metadata": {
    "tags": []
   },
   "outputs": [
    {
     "data": {
      "text/plain": [
       "array(['No', 'New Year', 'labour day', 'all saints', 'pentecost monday',\n",
       "       'battle of the boyne [northern ireland]',\n",
       "       \"st. andrew's day [scotland]\", 'state holiday', 'labor day',\n",
       "       'boxing day', 'epiphany of the lord',\n",
       "       'restoration of independence', 'hallowmas',\n",
       "       'summer bank holiday [scotland]', 'may day',\n",
       "       'late summer bank holiday', 'public holiday', 'toussaint',\n",
       "       'easter monday', 'workers day', 'whit monday', 'armistice 1945',\n",
       "       'assumption', 'first of may', 'sunday', 'maundy thursday',\n",
       "       'second day of pentecost',\n",
       "       'day of restoration of the independent czech state'], dtype=object)"
      ]
     },
     "execution_count": 86,
     "metadata": {},
     "output_type": "execute_result"
    }
   ],
   "source": [
    "reviews_clean[\"holiday_name\"].unique() "
   ]
  },
  {
   "cell_type": "code",
   "execution_count": 87,
   "id": "4332ed07-5a79-40f0-b198-829b6b2c6afd",
   "metadata": {
    "tags": []
   },
   "outputs": [],
   "source": [
    "reviews_clean['Year'] = reviews_clean['reviewVisited'].dt.year\n",
    "reviews_clean['Month'] = reviews_clean['reviewVisited'].dt.month\n",
    "reviews_clean['Day'] = reviews_clean['reviewVisited'].dt.day"
   ]
  },
  {
   "cell_type": "code",
   "execution_count": 88,
   "id": "a537d674-f38c-4270-8b63-e82f340d9ebf",
   "metadata": {
    "tags": []
   },
   "outputs": [
    {
     "data": {
      "text/html": [
       "<div>\n",
       "<style scoped>\n",
       "    .dataframe tbody tr th:only-of-type {\n",
       "        vertical-align: middle;\n",
       "    }\n",
       "\n",
       "    .dataframe tbody tr th {\n",
       "        vertical-align: top;\n",
       "    }\n",
       "\n",
       "    .dataframe thead th {\n",
       "        text-align: right;\n",
       "    }\n",
       "</style>\n",
       "<table border=\"1\" class=\"dataframe\">\n",
       "  <thead>\n",
       "    <tr style=\"text-align: right;\">\n",
       "      <th></th>\n",
       "      <th>localID</th>\n",
       "      <th>globalRating</th>\n",
       "      <th>positionOnRanking</th>\n",
       "      <th>totalReviews</th>\n",
       "      <th>userName</th>\n",
       "      <th>userLocation</th>\n",
       "      <th>userContributions</th>\n",
       "      <th>tripType</th>\n",
       "      <th>reviewWritten</th>\n",
       "      <th>reviewVisited</th>\n",
       "      <th>...</th>\n",
       "      <th>userISOCode</th>\n",
       "      <th>reviewFullText_agg</th>\n",
       "      <th>Name</th>\n",
       "      <th>Country</th>\n",
       "      <th>ISO</th>\n",
       "      <th>holiday</th>\n",
       "      <th>holiday_name</th>\n",
       "      <th>Year</th>\n",
       "      <th>Month</th>\n",
       "      <th>Day</th>\n",
       "    </tr>\n",
       "  </thead>\n",
       "  <tbody>\n",
       "    <tr>\n",
       "      <th>0</th>\n",
       "      <td>MAG013</td>\n",
       "      <td>4.5</td>\n",
       "      <td>1</td>\n",
       "      <td>34353</td>\n",
       "      <td>#1 Best@Number1Best</td>\n",
       "      <td>Ruwais, United Arab Emirates</td>\n",
       "      <td>49.0</td>\n",
       "      <td>Friends</td>\n",
       "      <td>2019-01-11</td>\n",
       "      <td>2018-08-01</td>\n",
       "      <td>...</td>\n",
       "      <td>AE</td>\n",
       "      <td>There’s not much “sightseeing” in Brussels, wh...</td>\n",
       "      <td>Grand Place</td>\n",
       "      <td>Belgium</td>\n",
       "      <td>BE</td>\n",
       "      <td>0</td>\n",
       "      <td>No</td>\n",
       "      <td>2018</td>\n",
       "      <td>8</td>\n",
       "      <td>1</td>\n",
       "    </tr>\n",
       "    <tr>\n",
       "      <th>1</th>\n",
       "      <td>MAG013</td>\n",
       "      <td>4.5</td>\n",
       "      <td>1</td>\n",
       "      <td>34353</td>\n",
       "      <td>#travelswithhugodog@ajotraveller2016</td>\n",
       "      <td>Leeds, UK</td>\n",
       "      <td>81.0</td>\n",
       "      <td>NULL</td>\n",
       "      <td>2019-11-03</td>\n",
       "      <td>2019-07-01</td>\n",
       "      <td>...</td>\n",
       "      <td>GB</td>\n",
       "      <td>Beautiful square - well lit and lots of food a...</td>\n",
       "      <td>Grand Place</td>\n",
       "      <td>Belgium</td>\n",
       "      <td>BE</td>\n",
       "      <td>1</td>\n",
       "      <td>No</td>\n",
       "      <td>2019</td>\n",
       "      <td>7</td>\n",
       "      <td>1</td>\n",
       "    </tr>\n",
       "    <tr>\n",
       "      <th>2</th>\n",
       "      <td>MAG013</td>\n",
       "      <td>4.5</td>\n",
       "      <td>1</td>\n",
       "      <td>34353</td>\n",
       "      <td>--Isma-1010@--Isma-1010</td>\n",
       "      <td>London, UK</td>\n",
       "      <td>10.0</td>\n",
       "      <td>Friends</td>\n",
       "      <td>2019-01-09</td>\n",
       "      <td>2019-01-01</td>\n",
       "      <td>...</td>\n",
       "      <td>GB</td>\n",
       "      <td>Definitely one of the most beautiful squares o...</td>\n",
       "      <td>Grand Place</td>\n",
       "      <td>Belgium</td>\n",
       "      <td>BE</td>\n",
       "      <td>1</td>\n",
       "      <td>New Year</td>\n",
       "      <td>2019</td>\n",
       "      <td>1</td>\n",
       "      <td>1</td>\n",
       "    </tr>\n",
       "    <tr>\n",
       "      <th>3</th>\n",
       "      <td>MAG013</td>\n",
       "      <td>4.5</td>\n",
       "      <td>1</td>\n",
       "      <td>34353</td>\n",
       "      <td>164roxanne@164roxanne</td>\n",
       "      <td>Dallas, TX</td>\n",
       "      <td>13.0</td>\n",
       "      <td>Solo</td>\n",
       "      <td>2019-06-27</td>\n",
       "      <td>2019-06-01</td>\n",
       "      <td>...</td>\n",
       "      <td>US</td>\n",
       "      <td>It's very grand and beautiful... and of course...</td>\n",
       "      <td>Grand Place</td>\n",
       "      <td>Belgium</td>\n",
       "      <td>BE</td>\n",
       "      <td>0</td>\n",
       "      <td>No</td>\n",
       "      <td>2019</td>\n",
       "      <td>6</td>\n",
       "      <td>1</td>\n",
       "    </tr>\n",
       "    <tr>\n",
       "      <th>4</th>\n",
       "      <td>MAG013</td>\n",
       "      <td>4.5</td>\n",
       "      <td>1</td>\n",
       "      <td>34353</td>\n",
       "      <td>19Spenc53@19Spenc53</td>\n",
       "      <td>London, UK</td>\n",
       "      <td>29.0</td>\n",
       "      <td>NULL</td>\n",
       "      <td>2020-03-04</td>\n",
       "      <td>2020-03-01</td>\n",
       "      <td>...</td>\n",
       "      <td>GB</td>\n",
       "      <td>You need to visit both during the day and at n...</td>\n",
       "      <td>Grand Place</td>\n",
       "      <td>Belgium</td>\n",
       "      <td>BE</td>\n",
       "      <td>1</td>\n",
       "      <td>No</td>\n",
       "      <td>2020</td>\n",
       "      <td>3</td>\n",
       "      <td>1</td>\n",
       "    </tr>\n",
       "  </tbody>\n",
       "</table>\n",
       "<p>5 rows × 21 columns</p>\n",
       "</div>"
      ],
      "text/plain": [
       "  localID  globalRating  positionOnRanking  totalReviews  \\\n",
       "0  MAG013           4.5                  1         34353   \n",
       "1  MAG013           4.5                  1         34353   \n",
       "2  MAG013           4.5                  1         34353   \n",
       "3  MAG013           4.5                  1         34353   \n",
       "4  MAG013           4.5                  1         34353   \n",
       "\n",
       "                               userName                  userLocation  \\\n",
       "0                   #1 Best@Number1Best  Ruwais, United Arab Emirates   \n",
       "1  #travelswithhugodog@ajotraveller2016                     Leeds, UK   \n",
       "2               --Isma-1010@--Isma-1010                    London, UK   \n",
       "3                 164roxanne@164roxanne                    Dallas, TX   \n",
       "4                   19Spenc53@19Spenc53                    London, UK   \n",
       "\n",
       "   userContributions tripType reviewWritten reviewVisited  ...  userISOCode  \\\n",
       "0               49.0  Friends    2019-01-11    2018-08-01  ...           AE   \n",
       "1               81.0     NULL    2019-11-03    2019-07-01  ...           GB   \n",
       "2               10.0  Friends    2019-01-09    2019-01-01  ...           GB   \n",
       "3               13.0     Solo    2019-06-27    2019-06-01  ...           US   \n",
       "4               29.0     NULL    2020-03-04    2020-03-01  ...           GB   \n",
       "\n",
       "                                  reviewFullText_agg         Name  Country  \\\n",
       "0  There’s not much “sightseeing” in Brussels, wh...  Grand Place  Belgium   \n",
       "1  Beautiful square - well lit and lots of food a...  Grand Place  Belgium   \n",
       "2  Definitely one of the most beautiful squares o...  Grand Place  Belgium   \n",
       "3  It's very grand and beautiful... and of course...  Grand Place  Belgium   \n",
       "4  You need to visit both during the day and at n...  Grand Place  Belgium   \n",
       "\n",
       "  ISO holiday  holiday_name  Year  Month  Day  \n",
       "0  BE       0            No  2018      8    1  \n",
       "1  BE       1            No  2019      7    1  \n",
       "2  BE       1      New Year  2019      1    1  \n",
       "3  BE       0            No  2019      6    1  \n",
       "4  BE       1            No  2020      3    1  \n",
       "\n",
       "[5 rows x 21 columns]"
      ]
     },
     "execution_count": 88,
     "metadata": {},
     "output_type": "execute_result"
    }
   ],
   "source": [
    "reviews_clean.head()"
   ]
  },
  {
   "cell_type": "markdown",
   "id": "14dfe2ee-f029-4f5a-b667-2468dd0cffe5",
   "metadata": {
    "tags": []
   },
   "source": [
    "# Feature engingeering\n",
    "New variable list:\n",
    "- `userISOCode`: string - ISO code of the location of where the user who posted the review lives. This is not a mandatory field.    \n",
    "- `reviewFullText_agg`: string - full text of the review now aggregated \n",
    "- `Name`: string - Name of the attraction                      \n",
    "- `Country`: string - Country of the attraction               \n",
    "- `ISO`: string - ISO code of the Country of the attraction                         \n",
    "- `holiday`: bool -  1 if the day of the visit was a holiday; 0 if not               \n",
    "- `holiday_name`: string - Name of the holiday           \n",
    "- `Year`: numeric - Year of the visit                      \n",
    "- `Month`: numeric - Month of the Visit                     \n",
    "- `Day`: numeric - Day of the visit"
   ]
  },
  {
   "cell_type": "code",
   "execution_count": 89,
   "id": "88d5c044-23a5-46ee-b962-87b4785a0f78",
   "metadata": {},
   "outputs": [],
   "source": [
    "reviews_clean.to_excel(r\"C:\\Users\\catar\\OneDrive\\Ambiente de Trabalho\\DS4M\\reviews_clean1.xlsx\", index=False)"
   ]
  },
  {
   "cell_type": "code",
   "execution_count": null,
   "id": "89af5ab8-a18b-4492-9831-b6d298041235",
   "metadata": {},
   "outputs": [],
   "source": []
  }
 ],
 "metadata": {
  "kernelspec": {
   "display_name": "Python 3 (ipykernel)",
   "language": "python",
   "name": "python3"
  },
  "language_info": {
   "codemirror_mode": {
    "name": "ipython",
    "version": 3
   },
   "file_extension": ".py",
   "mimetype": "text/x-python",
   "name": "python",
   "nbconvert_exporter": "python",
   "pygments_lexer": "ipython3",
   "version": "3.11.4"
  }
 },
 "nbformat": 4,
 "nbformat_minor": 5
}
